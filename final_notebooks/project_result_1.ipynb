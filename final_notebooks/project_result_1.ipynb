{
 "cells": [
  {
   "cell_type": "markdown",
   "metadata": {
    "collapsed": true,
    "jupyter": {
     "outputs_hidden": true
    }
   },
   "source": [
    "\n",
    "## Set up and imports"
   ]
  },
  {
   "cell_type": "code",
<<<<<<< HEAD
   "execution_count": null,
   "metadata": {},
   "outputs": [],
   "source": []
  },
  {
   "cell_type": "markdown",
   "metadata": {},
   "source": [
    "## Load the dataset catalog\n",
    "Read datasets.json into memory; normalize to a dict keyed by dataset name for quick access."
   ]
  },
  {
   "cell_type": "code",
   "execution_count": null,
   "metadata": {},
   "outputs": [],
   "source": []
  },
  {
   "cell_type": "markdown",
   "metadata": {},
   "source": [
    "## Helper to show description, time range, bounds, variables, etc"
   ]
  },
  {
   "cell_type": "code",
   "execution_count": null,
   "metadata": {},
   "outputs": [],
   "source": []
  },
  {
   "cell_type": "markdown",
   "metadata": {},
   "source": [
    "## Loader registry (bridges catalog → dataset.py)"
   ]
  },
  {
   "cell_type": "code",
   "execution_count": null,
   "metadata": {},
   "outputs": [],
   "source": []
  },
  {
   "cell_type": "markdown",
   "metadata": {},
   "source": [
    "## Pick a dataset and preview it."
   ]
  },
  {
   "cell_type": "code",
   "execution_count": null,
   "metadata": {},
   "outputs": [],
   "source": []
  },
  {
   "cell_type": "markdown",
   "metadata": {},
   "source": [
    "## LLM → plotting code\n",
    "Let users ask “plot monthly mean SST over Arabian Sea for 2015” and have the notebook generate runnable code that uses the already-loaded object"
   ]
  },
  {
   "cell_type": "code",
   "execution_count": null,
   "metadata": {},
   "outputs": [],
   "source": []
  },
  {
   "cell_type": "markdown",
   "metadata": {},
   "source": [
    "## Plot helpers for maps: time-series & snapshot\n",
    "Fallbacks if the LLM struggles"
   ]
  },
  {
   "cell_type": "code",
   "execution_count": null,
   "metadata": {},
   "outputs": [],
   "source": [
=======
   "execution_count": 1,
   "metadata": {},
   "outputs": [],
   "source": [
    "# --- 1) Setup & Imports ---\n",
    "import os, json, importlib, textwrap\n",
    "import pandas as pd\n",
    "import xarray as xr\n",
    "import matplotlib.pyplot as plt\n",
    "\n",
    "# Render nicely in notebooks\n",
    "%matplotlib inline\n",
    "plt.rcParams[\"figure.dpi\"] = 120\n"
   ]
  },
  {
   "cell_type": "markdown",
   "metadata": {
    "editable": true,
    "slideshow": {
     "slide_type": ""
    },
    "tags": []
   },
   "source": [
    "## Load the dataset catalog\n",
    "Read datasets.json (data catalog) into memory so we can browse datasets and their metadata."
   ]
  },
  {
   "cell_type": "code",
   "execution_count": 2,
   "metadata": {},
   "outputs": [
    {
     "name": "stdout",
     "output_type": "stream",
     "text": [
      "Datasets available:\n",
      " • Indian Ocean grid\n",
      " • GHRSST Level 4 MUR Global Foundation Sea Surface Temperature Analysis (v4.1)\n",
      " • ERA5 Atmospheric Surface Analysis\n"
     ]
    }
   ],
   "source": [
    "# --- 2) Load the Dataset Catalog (datasets.json) ---\n",
    "CATALOG_PATH = \"datasets.json\"  # adjust if you keep it elsewhere\n",
    "\n",
    "assert os.path.exists(CATALOG_PATH), f\"Catalog file not found: {CATALOG_PATH}\"\n",
    "\n",
    "with open(CATALOG_PATH, \"r\", encoding=\"utf-8\") as f:\n",
    "    catalog_data = json.load(f)\n",
    "\n",
    "# Expect a top-level key \"datasets\" with a list of entries\n",
    "catalog_list = catalog_data.get(\"datasets\", [])\n",
    "assert isinstance(catalog_list, list) and len(catalog_list) > 0, \"No datasets found in catalog.\"\n",
    "\n",
    "# Normalize to dict keyed by dataset name\n",
    "CATALOG = {d[\"name\"]: d for d in catalog_list}\n",
    "\n",
    "print(\"Datasets available:\")\n",
    "for name in CATALOG.keys():\n",
    "    print(\" •\", name)\n"
   ]
  },
  {
   "cell_type": "markdown",
   "metadata": {},
   "source": [
    "## Helper to show description, time range, bounds, variables, etc"
   ]
  },
  {
   "cell_type": "code",
   "execution_count": 3,
   "metadata": {},
   "outputs": [
    {
     "name": "stdout",
     "output_type": "stream",
     "text": [
      "# Indian Ocean grid\n",
      "\n",
      "Our Indian Ocean IO.zarr is a 1972-2022 blended dataset for the Arabian Sea and Bay of Bengal formated as a .zarr file, containing daily cleaned and interpolated data from variables across multiple sources, mostly from processed NASA/NOAA and Copernicus collections and the ERA5 reanalysis products.\n",
      "\n",
      "Time range: 1979-01-01 → 2022-12-31\n",
      "Spatial bounds: lat[-90.0,90.0], lon[-180.0,180.0]\n",
      "\n",
      "Variables:\n"
     ]
    },
    {
     "data": {
      "text/html": [
       "<div>\n",
       "<style scoped>\n",
       "    .dataframe tbody tr th:only-of-type {\n",
       "        vertical-align: middle;\n",
       "    }\n",
       "\n",
       "    .dataframe tbody tr th {\n",
       "        vertical-align: top;\n",
       "    }\n",
       "\n",
       "    .dataframe thead th {\n",
       "        text-align: right;\n",
       "    }\n",
       "</style>\n",
       "<table border=\"1\" class=\"dataframe\">\n",
       "  <thead>\n",
       "    <tr style=\"text-align: right;\">\n",
       "      <th></th>\n",
       "      <th>standard_name</th>\n",
       "      <th>description</th>\n",
       "      <th>units</th>\n",
       "    </tr>\n",
       "  </thead>\n",
       "  <tbody>\n",
       "    <tr>\n",
       "      <th>0</th>\n",
       "      <td>adt</td>\n",
       "      <td>Sea surface height above geoid (SL_TAC)</td>\n",
       "      <td>m</td>\n",
       "    </tr>\n",
       "    <tr>\n",
       "      <th>1</th>\n",
       "      <td>air_temp</td>\n",
       "      <td>Air temperature at 2 meters above the surface ...</td>\n",
       "      <td>K</td>\n",
       "    </tr>\n",
       "    <tr>\n",
       "      <th>2</th>\n",
       "      <td>mlotst</td>\n",
       "      <td>Mean ocean mixed layer thickness (GLORY)</td>\n",
       "      <td>m</td>\n",
       "    </tr>\n",
       "    <tr>\n",
       "      <th>3</th>\n",
       "      <td>sla</td>\n",
       "      <td>Sea level anomaly (SL_TAC)</td>\n",
       "      <td>m</td>\n",
       "    </tr>\n",
       "    <tr>\n",
       "      <th>4</th>\n",
       "      <td>so</td>\n",
       "      <td>Sea salinity concentration (GLORY)</td>\n",
       "      <td>PSU</td>\n",
       "    </tr>\n",
       "    <tr>\n",
       "      <th>5</th>\n",
       "      <td>sst</td>\n",
       "      <td>Sea surface temperature (ERA5)</td>\n",
       "      <td>K</td>\n",
       "    </tr>\n",
       "    <tr>\n",
       "      <th>6</th>\n",
       "      <td>topo</td>\n",
       "      <td>Topography (SRTM30+)</td>\n",
       "      <td>m</td>\n",
       "    </tr>\n",
       "    <tr>\n",
       "      <th>7</th>\n",
       "      <td>u_curr</td>\n",
       "      <td>U-component of total surface currents (OSCAR)</td>\n",
       "      <td>m/s</td>\n",
       "    </tr>\n",
       "    <tr>\n",
       "      <th>8</th>\n",
       "      <td>v_curr</td>\n",
       "      <td>V-component of total surface currents (OSCAR)</td>\n",
       "      <td>m/s</td>\n",
       "    </tr>\n",
       "    <tr>\n",
       "      <th>9</th>\n",
       "      <td>ug_curr</td>\n",
       "      <td>U-component of geostrophic surface currents (O...</td>\n",
       "      <td>m/s</td>\n",
       "    </tr>\n",
       "    <tr>\n",
       "      <th>10</th>\n",
       "      <td>vg_curr</td>\n",
       "      <td>V-component of geostrophic surface currents (O...</td>\n",
       "      <td>m/s</td>\n",
       "    </tr>\n",
       "    <tr>\n",
       "      <th>11</th>\n",
       "      <td>u_wind</td>\n",
       "      <td>U-component of surface wind (ERA5)</td>\n",
       "      <td>m/s</td>\n",
       "    </tr>\n",
       "    <tr>\n",
       "      <th>12</th>\n",
       "      <td>v_wind</td>\n",
       "      <td>V-component of surface wind (ERA5)</td>\n",
       "      <td>m/s</td>\n",
       "    </tr>\n",
       "    <tr>\n",
       "      <th>13</th>\n",
       "      <td>curr_speed</td>\n",
       "      <td>Total current speed (derived from u_curr and v...</td>\n",
       "      <td>m/s</td>\n",
       "    </tr>\n",
       "    <tr>\n",
       "      <th>14</th>\n",
       "      <td>curr_dir</td>\n",
       "      <td>Total current direction (derived from u_curr a...</td>\n",
       "      <td>degrees</td>\n",
       "    </tr>\n",
       "    <tr>\n",
       "      <th>15</th>\n",
       "      <td>wind_speed</td>\n",
       "      <td>Surface wind speed (derived from u_wind and v_...</td>\n",
       "      <td>m/s</td>\n",
       "    </tr>\n",
       "    <tr>\n",
       "      <th>16</th>\n",
       "      <td>wind_dir</td>\n",
       "      <td>Surface wind direction (derived from u_wind an...</td>\n",
       "      <td>degrees</td>\n",
       "    </tr>\n",
       "    <tr>\n",
       "      <th>17</th>\n",
       "      <td>CHL_cmes-level3</td>\n",
       "      <td>Multi-sensor chlorophyll-a concentration (Glob...</td>\n",
       "      <td>mg/m^3</td>\n",
       "    </tr>\n",
       "    <tr>\n",
       "      <th>18</th>\n",
       "      <td>CHL_cmes_flags-level3</td>\n",
       "      <td>Chlorophyll-a data flags: 0=land, 1=observed, ...</td>\n",
       "      <td>None</td>\n",
       "    </tr>\n",
       "    <tr>\n",
       "      <th>19</th>\n",
       "      <td>CHL_cmes_uncertainty-level3</td>\n",
       "      <td>Chlorophyll-a concentration uncertainty (GlobC...</td>\n",
       "      <td>%</td>\n",
       "    </tr>\n",
       "    <tr>\n",
       "      <th>20</th>\n",
       "      <td>CHL_cmes-gapfree</td>\n",
       "      <td>Gap-filled chlorophyll-a concentration (GlobCo...</td>\n",
       "      <td>mg/m^3</td>\n",
       "    </tr>\n",
       "    <tr>\n",
       "      <th>21</th>\n",
       "      <td>CHL_cmes_flags-gapfree</td>\n",
       "      <td>Chlorophyll-a data flags: 0=land, 1=observed, ...</td>\n",
       "      <td>None</td>\n",
       "    </tr>\n",
       "    <tr>\n",
       "      <th>22</th>\n",
       "      <td>CHL_cmes_uncertainty-gapfree</td>\n",
       "      <td>Chlorophyll-a concentration uncertainty (GlobC...</td>\n",
       "      <td>%</td>\n",
       "    </tr>\n",
       "    <tr>\n",
       "      <th>23</th>\n",
       "      <td>CHL_cci</td>\n",
       "      <td>Multi-sensor chlorophyll-a concentration (CCI)</td>\n",
       "      <td>mg/m^3</td>\n",
       "    </tr>\n",
       "    <tr>\n",
       "      <th>24</th>\n",
       "      <td>CHL_cci_uncertainty</td>\n",
       "      <td>Chlorophyll-a concentration uncertainty (CCI, ...</td>\n",
       "      <td>mg/m^3</td>\n",
       "    </tr>\n",
       "    <tr>\n",
       "      <th>25</th>\n",
       "      <td>CHL_dinoef</td>\n",
       "      <td>Gap-free chlorophyll-a concentration (DINEOF)</td>\n",
       "      <td>mg/m^3</td>\n",
       "    </tr>\n",
       "    <tr>\n",
       "      <th>26</th>\n",
       "      <td>CHL_dinoef_uncertainty</td>\n",
       "      <td>Chlorophyll-a concentration uncertainty (DINEO...</td>\n",
       "      <td>mg/m^3</td>\n",
       "    </tr>\n",
       "    <tr>\n",
       "      <th>27</th>\n",
       "      <td>CHL_dinoef_flag</td>\n",
       "      <td>Chlorophyll-a data flag (DINEOF)</td>\n",
       "      <td>None</td>\n",
       "    </tr>\n",
       "  </tbody>\n",
       "</table>\n",
       "</div>"
      ],
      "text/plain": [
       "                   standard_name  \\\n",
       "0                            adt   \n",
       "1                       air_temp   \n",
       "2                         mlotst   \n",
       "3                            sla   \n",
       "4                             so   \n",
       "5                            sst   \n",
       "6                           topo   \n",
       "7                         u_curr   \n",
       "8                         v_curr   \n",
       "9                        ug_curr   \n",
       "10                       vg_curr   \n",
       "11                        u_wind   \n",
       "12                        v_wind   \n",
       "13                    curr_speed   \n",
       "14                      curr_dir   \n",
       "15                    wind_speed   \n",
       "16                      wind_dir   \n",
       "17               CHL_cmes-level3   \n",
       "18         CHL_cmes_flags-level3   \n",
       "19   CHL_cmes_uncertainty-level3   \n",
       "20              CHL_cmes-gapfree   \n",
       "21        CHL_cmes_flags-gapfree   \n",
       "22  CHL_cmes_uncertainty-gapfree   \n",
       "23                       CHL_cci   \n",
       "24           CHL_cci_uncertainty   \n",
       "25                    CHL_dinoef   \n",
       "26        CHL_dinoef_uncertainty   \n",
       "27               CHL_dinoef_flag   \n",
       "\n",
       "                                          description    units  \n",
       "0             Sea surface height above geoid (SL_TAC)        m  \n",
       "1   Air temperature at 2 meters above the surface ...        K  \n",
       "2            Mean ocean mixed layer thickness (GLORY)        m  \n",
       "3                          Sea level anomaly (SL_TAC)        m  \n",
       "4                  Sea salinity concentration (GLORY)      PSU  \n",
       "5                      Sea surface temperature (ERA5)        K  \n",
       "6                                Topography (SRTM30+)        m  \n",
       "7       U-component of total surface currents (OSCAR)      m/s  \n",
       "8       V-component of total surface currents (OSCAR)      m/s  \n",
       "9   U-component of geostrophic surface currents (O...      m/s  \n",
       "10  V-component of geostrophic surface currents (O...      m/s  \n",
       "11                 U-component of surface wind (ERA5)      m/s  \n",
       "12                 V-component of surface wind (ERA5)      m/s  \n",
       "13  Total current speed (derived from u_curr and v...      m/s  \n",
       "14  Total current direction (derived from u_curr a...  degrees  \n",
       "15  Surface wind speed (derived from u_wind and v_...      m/s  \n",
       "16  Surface wind direction (derived from u_wind an...  degrees  \n",
       "17  Multi-sensor chlorophyll-a concentration (Glob...   mg/m^3  \n",
       "18  Chlorophyll-a data flags: 0=land, 1=observed, ...     None  \n",
       "19  Chlorophyll-a concentration uncertainty (GlobC...        %  \n",
       "20  Gap-filled chlorophyll-a concentration (GlobCo...   mg/m^3  \n",
       "21  Chlorophyll-a data flags: 0=land, 1=observed, ...     None  \n",
       "22  Chlorophyll-a concentration uncertainty (GlobC...        %  \n",
       "23     Multi-sensor chlorophyll-a concentration (CCI)   mg/m^3  \n",
       "24  Chlorophyll-a concentration uncertainty (CCI, ...   mg/m^3  \n",
       "25      Gap-free chlorophyll-a concentration (DINEOF)   mg/m^3  \n",
       "26  Chlorophyll-a concentration uncertainty (DINEO...   mg/m^3  \n",
       "27                   Chlorophyll-a data flag (DINEOF)     None  "
      ]
     },
     "metadata": {},
     "output_type": "display_data"
    }
   ],
   "source": [
    "# --- 3) Explore Dataset Metadata (Description, Bounds, Variables) ---\n",
    "\n",
    "def describe_dataset(ds_meta: dict):\n",
    "    \"\"\"Pretty print a single catalog entry.\"\"\"\n",
    "    print(f\"# {ds_meta.get('name','<unnamed>')}\\n\")\n",
    "    print(ds_meta.get(\"description\",\"(no description)\"))\n",
    "    print()\n",
    "\n",
    "    tb = ds_meta.get(\"temporal_bounds\", {})\n",
    "    sb = ds_meta.get(\"spatial_bounds\", {})\n",
    "\n",
    "    print(\"Time range:\", tb.get(\"start_time\"), \"→\", tb.get(\"end_time\"))\n",
    "    print(\"Spatial bounds:\",\n",
    "          f\"lat[{sb.get('min_lat')},{sb.get('max_lat')}],\",\n",
    "          f\"lon[{sb.get('min_lon')},{sb.get('max_lon')}]\")\n",
    "    print()\n",
    "\n",
    "    # Variables table\n",
    "    variables = (ds_meta.get(\"variables\") or {}).get(\"variables\", [])\n",
    "    if variables:\n",
    "        print(\"Variables:\")\n",
    "        df_vars = pd.DataFrame(variables)\n",
    "        display(df_vars)\n",
    "    else:\n",
    "        print(\"(no variables listed)\")\n",
    "\n",
    "# Choose one for inspection (hardcode here; swap as needed)\n",
    "INSPECT_NAME = \"Indian Ocean grid\"\n",
    "describe_dataset(CATALOG[INSPECT_NAME])\n"
   ]
  },
  {
   "cell_type": "markdown",
   "metadata": {},
   "source": [
    "## Loader registry (bridges catalog → dataset.py)"
   ]
  },
  {
   "cell_type": "code",
   "execution_count": null,
   "metadata": {},
   "outputs": [],
   "source": []
  },
  {
   "cell_type": "markdown",
   "metadata": {},
   "source": [
    "## Pick a dataset and preview it."
   ]
  },
  {
   "cell_type": "code",
   "execution_count": null,
   "metadata": {},
   "outputs": [],
   "source": []
  },
  {
   "cell_type": "markdown",
   "metadata": {},
   "source": [
    "## LLM → plotting code\n",
    "Let users ask “plot monthly mean SST over Arabian Sea for 2015” and have the notebook generate runnable code that uses the already-loaded object"
   ]
  },
  {
   "cell_type": "code",
   "execution_count": null,
   "metadata": {},
   "outputs": [],
   "source": []
  },
  {
   "cell_type": "markdown",
   "metadata": {},
   "source": [
    "## Plot helpers for maps: time-series & snapshot\n",
    "Fallbacks if the LLM struggles"
   ]
  },
  {
   "cell_type": "code",
   "execution_count": null,
   "metadata": {},
   "outputs": [],
   "source": [
>>>>>>> 6156eab5e69ea1ab58118895df02a91f2d5bfe6e
    "# Example helpers\n",
    "# 1) makes a time series by averaging the variable across all non-time dimensions\n",
    "def plot_timeseries_mean(ds, var, time_slice=None): # ds: xarray.Dataset var: variable name \n",
    "    da = ds[var]\n",
    "    if time_slice is not None:\n",
    "        da = da.sel(time=slice(*time_slice))\n",
    "    ts = da.mean(dim=[d for d in da.dims if d!=\"time\"]) # ts: 1-D over time\n",
    "    ts.plot()\n",
    "    plt.title(f\"{var} global mean over time\")\n",
    "    plt.tight_layout()\n",
    "\n",
    "# 2) plots a single time slice as a 2-D map\n",
    "def plot_snapshot_map(ds, var, time=None):\n",
    "    da = ds[var]\n",
    "    if time is not None:\n",
    "        da = da.sel(time=time) # da: 2-D; if the exact timestamp isn’t present, may use .sel(time=time, method=\"nearest\")\n",
    "    da.plot()\n",
    "    plt.title(f\"{var} snapshot\")\n",
    "    plt.tight_layout()\n"
   ]
  }
 ],
 "metadata": {
  "kernelspec": {
   "display_name": "Python (Pixi)",
   "language": "python",
   "name": "pixi-kernel-python3"
  },
  "language_info": {
   "codemirror_mode": {
    "name": "ipython",
    "version": 3
   },
   "file_extension": ".py",
   "mimetype": "text/x-python",
   "name": "python",
   "nbconvert_exporter": "python",
   "pygments_lexer": "ipython3",
   "version": "3.12.11"
  }
 },
 "nbformat": 4,
 "nbformat_minor": 4
}
