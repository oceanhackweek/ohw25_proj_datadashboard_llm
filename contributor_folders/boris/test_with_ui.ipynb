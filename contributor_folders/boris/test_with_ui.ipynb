{
 "cells": [
  {
   "cell_type": "code",
   "execution_count": 1,
   "id": "8b4f718e-e83d-43ee-ad6d-630bfc368dbb",
   "metadata": {},
   "outputs": [],
   "source": [
    "from langchain_community.vectorstores import Chroma\n",
    "from langchain.prompts import ChatPromptTemplate\n",
    "from langchain.chains import ConversationalRetrievalChain\n",
    "from langchain.schema import Document\n",
    "import json\n",
    "import os"
   ]
  },
  {
   "cell_type": "code",
   "execution_count": 2,
   "id": "6e840fae-db22-4c45-8c94-dc2cc19e81a5",
   "metadata": {},
   "outputs": [],
   "source": [
    "from langchain_openai import ChatOpenAI\n",
    "from langchain_core.output_parsers import StrOutputParser"
   ]
  },
  {
   "cell_type": "code",
   "execution_count": 3,
   "id": "84eb800c-72bd-4f09-ae2c-61d1aa1e6a44",
   "metadata": {},
   "outputs": [],
   "source": [
    "json_path = 'datasets.json'\n",
    "def load_safe_desc(path: str) -> str:\n",
    "    \"\"\"\n",
    "    Load a JSON file, dump it as indented text,\n",
    "    and escape curly braces for LangChain prompts.\n",
    "    \"\"\"\n",
    "    with open(path, \"r\", encoding=\"utf-8\") as f:\n",
    "        data = json.load(f)\n",
    "    \n",
    "    # Convert dict/list to formatted JSON string\n",
    "    text = json.dumps(data, ensure_ascii=False, indent=2)\n",
    "    \n",
    "    # Escape braces so LangChain doesn't treat them as variables\n",
    "    safe_text = text.replace(\"{\", \"{{\").replace(\"}\", \"}}\")\n",
    "    \n",
    "    return safe_text\n",
    "\n",
    "# Example usage\n",
    "safe_desc = load_safe_desc(json_path)"
   ]
  },
  {
   "cell_type": "code",
   "execution_count": 10,
   "id": "599c07d4-b56f-4a2c-90a3-e7fa0bdc6789",
   "metadata": {},
   "outputs": [],
   "source": [
    "def read_examples(filename: str):\n",
    "    \"\"\"\n",
    "    Reads a JSON file containing code description examples\n",
    "    and returns them as a list of dictionaries.\n",
    "    \"\"\"\n",
    "    with open(filename, \"r\", encoding=\"utf-8\") as f:\n",
    "        data = json.load(f)\n",
    "    return data"
   ]
  },
  {
   "cell_type": "code",
   "execution_count": 11,
   "id": "6bcc0b88-ed77-4d70-a892-ee6712b1dc9b",
   "metadata": {},
   "outputs": [],
   "source": [
    "examples = read_examples(\"code_descriptions.json\")"
   ]
  },
  {
   "cell_type": "code",
   "execution_count": null,
   "id": "13b7815a-82d5-4ba1-95e2-2fa8c4e7b4a9",
   "metadata": {},
   "outputs": [],
   "source": [
    "def create_db_examples(examples):\n",
    "    docs = []\n",
    "    for doc in examples:\n",
    "        # use the definition as the content, and keep the term (and letter) as metadata\n",
    "        docs.append(\n",
    "            Document(\n",
    "                page_content=doc['page_content'],\n",
    "                metadata=doc['metadata']  \n",
    "            )\n",
    "        )\n",
    "    vector_store_hf = Chroma.from_documents(\n",
    "                                            docs,\n",
    "                                            doc_embedder,\n",
    "                                            persist_directory=\"./chroma_db_examples\",\n",
    "                                        )\n",
    "    vector_store_hf.persist()\n",
    "    return vector_store_hf"
   ]
  },
  {
   "cell_type": "code",
   "execution_count": null,
   "id": "b63cd6f8-9c7e-416c-98de-d48c1b2d132d",
   "metadata": {},
   "outputs": [],
   "source": [
    "examples = read_examples(\"code_descriptions.json\")\n",
    "vector_store_hf = create_db_examples(examples)"
   ]
  },
  {
   "cell_type": "code",
   "execution_count": 4,
   "id": "e938fd39-3545-453d-8774-1b643085c915",
   "metadata": {},
   "outputs": [],
   "source": [
    "SYSTEM_PROMPT = f\"\"\"\n",
    " Pick the best single dataset and variable (might be several) using only the task description.\n",
    "[TASK DESCRIPTION]\n",
    "{safe_desc}\n",
    "\n",
    "[OUTPUT SCHEMA — return ONLY these fields in this order]\n",
    "dataset: <dataset name or \"none\">\n",
    "variable: <variable name or \"none\">\n",
    "lat,lon boundaries : <[lat_min, lat_max], [lon_min, lon_max] or \"global\">\n",
    "time range: <YYYY-MM-DD to YYYY-MM-DD or \"full available\">\n",
    "suggestions (from description only): <where this variable is available (region/coverage) if stated; else \"none\">\n",
    "\n",
    "[DECISION RULES]\n",
    "- Choose the most specific dataset & variables (can be more than one) explicitly supported by the description.\n",
    "- If region/time are missing, use \"global\" and \"full available\".\n",
    "- If no suitable match exists, set dataset and variable to \"none\".\n",
    "- Suggestions must reflect ONLY what the description states (no external inference).\n",
    "\"\"\""
   ]
  },
  {
   "cell_type": "code",
   "execution_count": 5,
   "id": "73cd083c-fe4c-4619-bcf2-5dc4706aaec9",
   "metadata": {},
   "outputs": [],
   "source": [
    "def load_safe_desc(path: str) -> str:\n",
    "    \"\"\"\n",
    "    Load a JSON file, dump it as indented text,\n",
    "    and escape curly braces for LangChain prompts.\n",
    "    \"\"\"\n",
    "    with open(path, \"r\", encoding=\"utf-8\") as f:\n",
    "        data = json.load(f)\n",
    "    \n",
    "    # Convert dict/list to formatted JSON string\n",
    "    text = json.dumps(data, ensure_ascii=False, indent=2)\n",
    "    \n",
    "    # Escape braces so LangChain doesn't treat them as variables\n",
    "    safe_text = text.replace(\"{\", \"{{\").replace(\"}\", \"}}\")\n",
    "    \n",
    "    return safe_text"
   ]
  },
  {
   "cell_type": "code",
   "execution_count": 6,
   "id": "c3a2e650-6c7b-4ff4-a7c3-69f169b827b3",
   "metadata": {},
   "outputs": [],
   "source": [
    "def get_example_of_visualizations(query: str) -> str:\n",
    "    \"\"\"\n",
    "    Retrieves example visualizations related to the query.\n",
    "\n",
    "    Parameters:\n",
    "    - query (str): The user's query about plotting.\n",
    "\n",
    "    Returns:\n",
    "    - str: The content of the most relevant example file.\n",
    "    \"\"\"\n",
    "    vector_store_hf = Chroma(\n",
    "        persist_directory=\"./chroma_db_examples\",\n",
    "        embedding_function=doc_embedder\n",
    "    )\n",
    "    # Perform a similarity search\n",
    "    results = vector_store_hf.similarity_search_with_score(query, k=1)\n",
    "\n",
    "    # Extract the most relevant document\n",
    "    doc, score = results[0]\n",
    "\n",
    "    # Construct the full path to the txt file\n",
    "    file_name = doc.metadata['source'].lstrip('./')\n",
    "    full_path = os.path.join('./', file_name)\n",
    "\n",
    "    # Read and return the content of the txt file\n",
    "    try:\n",
    "        with open(full_path, 'r', encoding='utf-8') as file:\n",
    "            content = file.read()\n",
    "            return content\n",
    "    except Exception as e:\n",
    "        print(f\"An error occurred while reading the file: {str(e)}\")\n",
    "        return \"\"  # Return empty string if error occurs"
   ]
  },
  {
   "cell_type": "code",
   "execution_count": 7,
   "id": "db6b620a-61ea-4ed6-ab8e-ad56b29e61ff",
   "metadata": {},
   "outputs": [],
   "source": [
    "def description_reader(query):\n",
    "    json_path = 'datasets.json'\n",
    "    safe_desc = load_safe_desc(json_path)\n",
    "    llm = ChatOpenAI(\n",
    "        base_url=\"https://router.huggingface.co/v1\",\n",
    "        api_key=HF_TOKEN,\n",
    "        \n",
    "        model=\"openai/gpt-oss-20b:fireworks-ai\"  \n",
    "    )\n",
    "    \n",
    "    # Create the prompt template\n",
    "    prompt = ChatPromptTemplate.from_messages([\n",
    "        (\"system\", SYSTEM_PROMPT),\n",
    "        (\"human\", \"{question}\")\n",
    "    ])\n",
    "    \n",
    "    # Create the chain with output parser\n",
    "    chain_no_context = prompt | llm | StrOutputParser()\n",
    "    response = chain_no_context.invoke({\"question\": query})\n",
    "    example = get_example_of_visualizations(query)\n",
    "    final_answer = response + ' you can use this code to analyse the data/n/n: ' + example\n",
    "    return final_answer"
   ]
  },
  {
   "cell_type": "code",
   "execution_count": 8,
   "id": "aa7c1b72-e233-4e12-8b8a-291708f9e689",
   "metadata": {},
   "outputs": [],
   "source": [
    "from typing import Optional, Literal\n",
    "from pydantic import BaseModel, Field, conint, confloat\n",
    "from langchain_core.tools import StructuredTool\n",
    "class adviserPARAM(BaseModel):\n",
    "    query: str = Field(\n",
    "        ..., description=\"User query\"\n",
    "    ) "
   ]
  },
  {
   "cell_type": "code",
   "execution_count": 9,
   "id": "72349065-1049-4392-8534-b2ad5728e83d",
   "metadata": {},
   "outputs": [],
   "source": [
    "adviser_tool = StructuredTool.from_function(\n",
    "    description_reader,\n",
    "    name=\"adviser_tool\",\n",
    "    description=(\n",
    "        \"Use this tool to find a suitable dataset and code example\"\n",
    "    ),\n",
    "    args_schema=adviserPARAM,\n",
    ")"
   ]
  },
  {
   "cell_type": "code",
   "execution_count": null,
   "id": "fd4b18cb-8ebb-4a1c-b05d-b762305eddac",
   "metadata": {},
   "outputs": [],
   "source": [
    "from langchain.agents import AgentExecutor, create_tool_calling_agent\n",
    "from langchain.prompts import MessagesPlaceholder\n",
    "\n",
    "# Use your existing tools\n",
    "tools = [adviser_tool]\n",
    "HF_TOKEN = '' ### ---add your API key\n",
    "\n",
    "from langchain_huggingface import HuggingFaceEndpointEmbeddings\n",
    "doc_embedder = HuggingFaceEndpointEmbeddings(\n",
    "    model=\"Qwen/Qwen3-Embedding-8B\",\n",
    "    task=\"feature-extraction\",\n",
    "    model_kwargs={\"normalize\": True},\n",
    "    huggingfacehub_api_token = HF_TOKEN\n",
    "    \n",
    ")\n",
    "# System & user prompt for the agent\n",
    "prompt = ChatPromptTemplate.from_messages(\n",
    "    [\n",
    "        (\"system\", \"You are an expert in climate data analysis, you have adviser tool, which can help you to asnwer user's questions about variables/datasets. If the question about data, use only information from adviser_tool\"),\n",
    "        (\"user\", \"{input}\"),\n",
    "        MessagesPlaceholder(variable_name=\"agent_scratchpad\"),\n",
    "    ]\n",
    ")\n",
    "llm = ChatOpenAI(\n",
    "    base_url=\"https://router.huggingface.co/v1\",\n",
    "    api_key=HF_TOKEN,\n",
    "    model=\"openai/gpt-oss-120b:fireworks-ai\"  \n",
    ")\n",
    "\n",
    "# Define the agent\n",
    "agent = create_tool_calling_agent(\n",
    "    llm=llm,\n",
    "    tools=tools,\n",
    "    prompt=prompt,\n",
    ")\n",
    "\n",
    "# Create the executor\n",
    "agent_executor = AgentExecutor(agent=agent, tools=tools, verbose=True)"
   ]
  }
 ],
 "metadata": {
  "kernelspec": {
   "display_name": "Python 3 (ipykernel)",
   "language": "python",
   "name": "python3"
  },
  "language_info": {
   "codemirror_mode": {
    "name": "ipython",
    "version": 3
   },
   "file_extension": ".py",
   "mimetype": "text/x-python",
   "name": "python",
   "nbconvert_exporter": "python",
   "pygments_lexer": "ipython3",
   "version": "3.12.11"
  }
 },
 "nbformat": 4,
 "nbformat_minor": 5
}
