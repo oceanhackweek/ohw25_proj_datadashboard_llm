{
 "cells": [
  {
   "cell_type": "code",
   "execution_count": 1,
   "id": "8b99ca33-cfc1-4ad8-bfba-7d00529c9be5",
   "metadata": {},
   "outputs": [
    {
     "data": {
      "text/plain": [
       "False"
      ]
     },
     "execution_count": 1,
     "metadata": {},
     "output_type": "execute_result"
    }
   ],
   "source": [
    "from langchain_community.vectorstores import Chroma\n",
    "from langchain.prompts import ChatPromptTemplate\n",
    "from langchain.chains import ConversationalRetrievalChain\n",
    "from langchain.schema import Document\n",
    "import json\n",
    "import os\n",
    "from dotenv import load_dotenv\n",
    "load_dotenv()"
   ]
  },
  {
   "cell_type": "code",
   "execution_count": 2,
   "id": "1be99207-5f62-445e-b9f2-a64d992a4364",
   "metadata": {},
   "outputs": [],
   "source": [
    "from langchain_openai import ChatOpenAI\n",
    "from langchain_core.output_parsers import StrOutputParser"
   ]
  },
  {
   "cell_type": "code",
   "execution_count": 3,
   "id": "1fafe214-a774-4b3f-9eb7-f5329eeaae26",
   "metadata": {},
   "outputs": [],
   "source": [
    "def read_examples(filename: str):\n",
    "    \"\"\"\n",
    "    Reads a JSON file containing code description examples\n",
    "    and returns them as a list of dictionaries.\n",
    "    \"\"\"\n",
    "    with open(filename, \"r\", encoding=\"utf-8\") as f:\n",
    "        data = json.load(f)\n",
    "    return data"
   ]
  },
  {
   "cell_type": "code",
   "execution_count": 4,
   "id": "7d74962f-637e-45ff-a342-f401e37591cc",
   "metadata": {},
   "outputs": [],
   "source": [
    "examples = read_examples(\"code_descriptions.json\")"
   ]
  },
  {
   "cell_type": "code",
   "execution_count": 12,
   "id": "7d8193d8-5bef-402c-ae5e-aa34105c6b91",
   "metadata": {},
   "outputs": [],
   "source": [
    "hf_token = '' # --- add your token here "
   ]
  },
  {
   "cell_type": "code",
   "execution_count": 6,
   "id": "b2dc2746-4dba-4f41-a80c-3513bf1695be",
   "metadata": {},
   "outputs": [],
   "source": [
    "from langchain_huggingface import HuggingFaceEndpointEmbeddings\n",
    "doc_embedder = HuggingFaceEndpointEmbeddings(\n",
    "    model=\"Qwen/Qwen3-Embedding-8B\",\n",
    "    task=\"feature-extraction\",\n",
    "    model_kwargs={\"normalize\": True},\n",
    "    huggingfacehub_api_token = hf_token\n",
    "    \n",
    ")"
   ]
  },
  {
   "cell_type": "code",
   "execution_count": 8,
   "id": "bb069e4a-9728-461d-9967-3ddd42509213",
   "metadata": {},
   "outputs": [],
   "source": [
    "def create_db_examples(examples):\n",
    "    docs = []\n",
    "    for doc in examples:\n",
    "        # use the definition as the content, and keep the term (and letter) as metadata\n",
    "        docs.append(\n",
    "            Document(\n",
    "                page_content=doc['page_content'],\n",
    "                metadata=doc['metadata']\n",
    "            )\n",
    "        )\n",
    "    vector_store_hf = Chroma.from_documents(\n",
    "                                            docs,\n",
    "                                            doc_embedder,\n",
    "                                        )\n",
    "    return vector_store_hf"
   ]
  },
  {
   "cell_type": "code",
   "execution_count": 9,
   "id": "4a533d79-5932-43ca-8df1-bc1954ec25c4",
   "metadata": {},
   "outputs": [],
   "source": [
    "examples = read_examples(\"code_descriptions.json\")\n",
    "vector_store_hf = create_db_examples(examples)"
   ]
  },
  {
   "cell_type": "code",
   "execution_count": 10,
   "id": "af006cf4-43e1-4a68-bdec-2b558d5e1b40",
   "metadata": {},
   "outputs": [],
   "source": [
    "def get_example_of_visualizations(chroma,query: str) -> str:\n",
    "    \"\"\"\n",
    "    Retrieves example visualizations related to the query.\n",
    "\n",
    "    Parameters:\n",
    "    - chroma: vector database with examples\n",
    "    - query (str): The user's query about plotting.\n",
    "\n",
    "    Returns:\n",
    "    - str: The content of the most relevant example file.\n",
    "    \"\"\"\n",
    "\n",
    "    # Perform a similarity search\n",
    "    results = chroma.similarity_search_with_score(query, k=1)\n",
    "\n",
    "    # Extract the most relevant document\n",
    "    doc, score = results[0]\n",
    "\n",
    "    # Construct the full path to the txt file\n",
    "    file_name = doc.metadata['source'].lstrip('./')\n",
    "    full_path = os.path.join('./', file_name)\n",
    "\n",
    "    # Read and return the content of the txt file\n",
    "    try:\n",
    "        with open(full_path, 'r', encoding='utf-8') as file:\n",
    "            content = file.read()\n",
    "            return content\n",
    "    except Exception as e:\n",
    "        print(f\"An error occurred while reading the file: {str(e)}\")\n",
    "        return \"\"  # Return empty string if error occurs\n"
   ]
  },
  {
   "cell_type": "code",
   "execution_count": 11,
   "id": "b4d97d27-43dc-48fb-82a2-d7fe52719abc",
   "metadata": {},
   "outputs": [
    {
     "data": {
      "text/plain": [
       "'import numpy as np\\nimport pandas as pd\\nimport matplotlib.pyplot as plt\\nimport xarray as xr\\n\\nFILE_IN = \"text.nc\"\\n\\nds = xr.open_dataset(FILE_IN)\\ntime = pd.to_datetime(ds[\"time\"].values)\\ny = pd.Series(ds[\"analysed_sst\"].values, index=time).astype(float)\\ny = y.interpolate(limit_direction=\"both\")\\n\\nrun7  = y.rolling(window=7,  center=True, min_periods=1).mean()\\nrun30 = y.rolling(window=30, center=True, min_periods=1).mean()\\n\\n\\n# 1) Original & running means\\nplt.figure(figsize=(12,4.5))\\nplt.plot(y.index, y.values, label=\"Original\")\\nplt.plot(run7.index, run7.values, label=\"7-day running mean\")\\nplt.plot(run30.index, run30.values, label=\"30-day running mean\")\\nplt.title(\"SST: Original & Running Means\")\\nplt.xlabel(\"Date\")\\nplt.ylabel(\"Temperature\")\\nplt.legend()\\nplt.tight_layout()\\nplt.show()'"
      ]
     },
     "execution_count": 11,
     "metadata": {},
     "output_type": "execute_result"
    }
   ],
   "source": [
    "get_example_of_visualizations(vector_store_hf, 'one year rolling mean for salinity')"
   ]
  },
  {
   "cell_type": "code",
   "execution_count": null,
   "id": "130d6ee0-a697-43a9-9a14-de0d7124926e",
   "metadata": {},
   "outputs": [],
   "source": []
  }
 ],
 "metadata": {
  "kernelspec": {
   "display_name": "Python 3 (ipykernel)",
   "language": "python",
   "name": "python3"
  },
  "language_info": {
   "codemirror_mode": {
    "name": "ipython",
    "version": 3
   },
   "file_extension": ".py",
   "mimetype": "text/x-python",
   "name": "python",
   "nbconvert_exporter": "python",
   "pygments_lexer": "ipython3",
   "version": "3.12.11"
  }
 },
 "nbformat": 4,
 "nbformat_minor": 5
}
