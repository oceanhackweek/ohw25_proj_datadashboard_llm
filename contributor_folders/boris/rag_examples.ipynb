{
 "cells": [
  {
   "cell_type": "code",
   "execution_count": 1,
   "id": "8b99ca33-cfc1-4ad8-bfba-7d00529c9be5",
   "metadata": {},
   "outputs": [
    {
     "data": {
      "text/plain": [
       "False"
      ]
     },
     "execution_count": 1,
     "metadata": {},
     "output_type": "execute_result"
    }
   ],
   "source": [
    "from langchain_community.vectorstores import Chroma\n",
    "from langchain.prompts import ChatPromptTemplate\n",
    "from langchain.chains import ConversationalRetrievalChain\n",
    "from langchain.schema import Document\n",
    "import json\n",
    "import os\n",
    "from dotenv import load_dotenv\n",
    "load_dotenv()"
   ]
  },
  {
   "cell_type": "code",
   "execution_count": 2,
   "id": "1be99207-5f62-445e-b9f2-a64d992a4364",
   "metadata": {},
   "outputs": [],
   "source": [
    "from langchain_openai import ChatOpenAI\n",
    "from langchain_core.output_parsers import StrOutputParser"
   ]
  },
  {
   "cell_type": "code",
   "execution_count": 3,
   "id": "32e58f64-5aa8-41fe-aee1-02b51b98cde1",
   "metadata": {},
   "outputs": [],
   "source": [
    "import json\n",
    "\n",
    "# Data entries (replace with your own objects as needed)\n",
    "data = [\n",
    "    {\n",
    "        \"id\": None,\n",
    "        \"metadata\": {\"source\": \"./txt_docs/anomaly_calculation.txt\"},\n",
    "        \"page_content\": \"This code computes sea surface temperature anomalies by removing long-term trends and seasonal cycles through harmonic regression. It is useful for climate and oceanography tasks where highlighting interannual or short-term variability is needed after filtering out predictable signals. Packages used: numpy, pandas, matplotlib, xarray, scipy.signal\",\n",
    "        \"type\": \"Document\"\n",
    "    },\n",
    "    {\n",
    "        \"id\": None,\n",
    "        \"metadata\": {\"source\": \"./txt_docs/arctic_ocean_plot.txt\"},\n",
    "        \"page_content\": \"This code generates a polar stereographic map of the Arctic, displaying sea surface temperature data with coastlines, land shading, and gridlines for geographic context. It is useful for climate and oceanography tasks focused on visualizing spatial variability in polar regions with accurate projections. Packages used: cartopy, matplotlib, xarray, numpy\",\n",
    "        \"type\": \"Document\"\n",
    "    },\n",
    "    {\n",
    "        \"id\": None,\n",
    "        \"metadata\": {\"source\": \"./txt_docs/atlantic_plot.txt\"},\n",
    "        \"page_content\": \"This code creates a Plate Carrée projection map of the Atlantic Ocean and visualizes sea surface temperature data with geographic context. It is useful for climate and oceanography tasks that require mapping large ocean basins, enabling clear interpretation of spatial variability across latitudes and longitudes. Packages used: cartopy, matplotlib, xarray, numpy\",\n",
    "        \"type\": \"Document\"\n",
    "    },\n",
    "    {\n",
    "        \"id\": None,\n",
    "        \"metadata\": {\"source\": \"./txt_docs/filters.txt\"},\n",
    "        \"page_content\": \"This code applies Butterworth filters to a sea surface temperature time series to isolate variability on different timescales. It computes low-pass (~30 d), high-pass (~7 d), and band-pass (10–90 d) signals and visualizes them alongside the original data using dual axes. It is useful for climate and oceanography tasks that require separating short-term, intraseasonal, and longer-term variability, supporting analyses of anomalies, oscillations, and filtering prior to further statistical methods. Packages used: numpy, pandas, matplotlib, xarray, scipy.signal\",\n",
    "        \"type\": \"Document\"\n",
    "    },\n",
    "    {\n",
    "        \"id\": None,\n",
    "        \"metadata\": {\"source\": \"./txt_docs/rolling_mean.txt\"},\n",
    "        \"page_content\": \"This code smooths a sea surface temperature time series using rolling means over 7-day and 30-day windows and compares them to the original data. It is useful for climate and oceanography tasks where short-term fluctuations need to be filtered out to highlight weekly or monthly variability and trends. Packages used: numpy, pandas, matplotlib, xarray\",\n",
    "        \"type\": \"Document\"\n",
    "    },\n",
    "    {\n",
    "        \"id\": None,\n",
    "        \"metadata\": {\"source\": \"./txt_docs/southern_ocean_plot.txt\"},\n",
    "        \"page_content\": \"This code creates a polar stereographic map of the Southern Ocean, plotting sea surface temperature data with coastlines, land shading, and gridlines for geographic reference. It is useful for climate and oceanography tasks focused on visualizing spatial variability around Antarctica with an appropriate polar projection. Packages used: cartopy, matplotlib, xarray, numpy\",\n",
    "        \"type\": \"Document\"\n",
    "    }\n",
    "]"
   ]
  },
  {
   "cell_type": "code",
   "execution_count": 14,
   "id": "0f47b51f-0968-45f6-9568-f0e39c689653",
   "metadata": {},
   "outputs": [],
   "source": [
    "docs = []\n",
    "for doc in data:\n",
    "    # use the definition as the content, and keep the term (and letter) as metadata\n",
    "    docs.append(\n",
    "        Document(\n",
    "            page_content=doc['page_content'],\n",
    "            metadata=doc['metadata']\n",
    "        )\n",
    "    )"
   ]
  },
  {
   "cell_type": "code",
   "execution_count": 19,
   "id": "b2dc2746-4dba-4f41-a80c-3513bf1695be",
   "metadata": {},
   "outputs": [],
   "source": [
    "from langchain_huggingface import HuggingFaceEndpointEmbeddings\n",
    "doc_embedder = HuggingFaceEndpointEmbeddings(\n",
    "    model=\"Qwen/Qwen3-Embedding-8B\",\n",
    "    task=\"feature-extraction\",\n",
    "    model_kwargs={\"normalize\": True},\n",
    "    huggingfacehub_api_token = hf_token\n",
    "    \n",
    ")"
   ]
  },
  {
   "cell_type": "code",
   "execution_count": 20,
   "id": "63a9f279-c2e0-4e16-9f9c-b2235c1c811a",
   "metadata": {},
   "outputs": [],
   "source": [
    "vector_store_hf = Chroma.from_documents(docs, doc_embedder)\n",
    "retriever = vector_store_hf.as_retriever()"
   ]
  },
  {
   "cell_type": "code",
   "execution_count": 27,
   "id": "af006cf4-43e1-4a68-bdec-2b558d5e1b40",
   "metadata": {},
   "outputs": [],
   "source": [
    "def get_example_of_visualizations(query: str) -> str:\n",
    "    \"\"\"\n",
    "    Retrieves example visualizations related to the query.\n",
    "\n",
    "    Parameters:\n",
    "    - query (str): The user's query about plotting.\n",
    "\n",
    "    Returns:\n",
    "    - str: The content of the most relevant example file.\n",
    "    \"\"\"\n",
    "\n",
    "\n",
    "    # Perform a similarity search\n",
    "    results = vector_store_hf.similarity_search_with_score(query, k=1)\n",
    "\n",
    "    # Extract the most relevant document\n",
    "    doc, score = results[0]\n",
    "\n",
    "    # Construct the full path to the txt file\n",
    "    file_name = doc.metadata['source'].lstrip('./')\n",
    "    full_path = os.path.join('./', file_name)\n",
    "\n",
    "    # Read and return the content of the txt file\n",
    "    try:\n",
    "        with open(full_path, 'r', encoding='utf-8') as file:\n",
    "            content = file.read()\n",
    "            return content\n",
    "    except Exception as e:\n",
    "        print(f\"An error occurred while reading the file: {str(e)}\")\n",
    "        return \"\"  # Return empty string if error occurs\n"
   ]
  },
  {
   "cell_type": "code",
   "execution_count": 30,
   "id": "b4d97d27-43dc-48fb-82a2-d7fe52719abc",
   "metadata": {},
   "outputs": [
    {
     "data": {
      "text/plain": [
       "'import numpy as np\\nimport pandas as pd\\nimport matplotlib.pyplot as plt\\nimport xarray as xr\\n\\nFILE_IN = \"text.nc\"\\n\\nds = xr.open_dataset(FILE_IN)\\ntime = pd.to_datetime(ds[\"time\"].values)\\ny = pd.Series(ds[\"analysed_sst\"].values, index=time).astype(float)\\ny = y.interpolate(limit_direction=\"both\")\\n\\nrun7  = y.rolling(window=7,  center=True, min_periods=1).mean()\\nrun30 = y.rolling(window=30, center=True, min_periods=1).mean()\\n\\n\\n# 1) Original & running means\\nplt.figure(figsize=(12,4.5))\\nplt.plot(y.index, y.values, label=\"Original\")\\nplt.plot(run7.index, run7.values, label=\"7-day running mean\")\\nplt.plot(run30.index, run30.values, label=\"30-day running mean\")\\nplt.title(\"SST: Original & Running Means\")\\nplt.xlabel(\"Date\")\\nplt.ylabel(\"Temperature\")\\nplt.legend()\\nplt.tight_layout()\\nplt.show()'"
      ]
     },
     "execution_count": 30,
     "metadata": {},
     "output_type": "execute_result"
    }
   ],
   "source": [
    "get_example_of_visualizations('one year rolling mean for salinity')"
   ]
  },
  {
   "cell_type": "code",
   "execution_count": null,
   "id": "130d6ee0-a697-43a9-9a14-de0d7124926e",
   "metadata": {},
   "outputs": [],
   "source": []
  }
 ],
 "metadata": {
  "kernelspec": {
   "display_name": "Python 3 (ipykernel)",
   "language": "python",
   "name": "python3"
  },
  "language_info": {
   "codemirror_mode": {
    "name": "ipython",
    "version": 3
   },
   "file_extension": ".py",
   "mimetype": "text/x-python",
   "name": "python",
   "nbconvert_exporter": "python",
   "pygments_lexer": "ipython3",
   "version": "3.12.11"
  }
 },
 "nbformat": 4,
 "nbformat_minor": 5
}
