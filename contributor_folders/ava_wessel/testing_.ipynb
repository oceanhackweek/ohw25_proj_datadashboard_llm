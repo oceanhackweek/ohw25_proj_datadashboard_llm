{
 "cells": [
  {
   "cell_type": "code",
   "execution_count": 1,
   "id": "54062882-895b-4ad0-a798-40b52c276718",
   "metadata": {
    "editable": true,
    "slideshow": {
     "slide_type": "slide"
    },
    "tags": []
   },
   "outputs": [
    {
     "data": {
      "application/vnd.jupyter.widget-view+json": {
       "model_id": "80abdd73ce204ddeac9bb1af75bb4ae4",
       "version_major": 2,
       "version_minor": 0
      },
      "text/plain": [
       "Map(center=[20, 0], controls=(ZoomControl(options=['position', 'zoom_in_text', 'zoom_in_title', 'zoom_out_text…"
      ]
     },
     "metadata": {},
     "output_type": "display_data"
    },
    {
     "data": {
      "application/vnd.jupyter.widget-view+json": {
       "model_id": "4002328a38bc42168e0dfbfec7aa3b31",
       "version_major": 2,
       "version_minor": 0
      },
      "text/plain": [
       "VBox(children=(HTML(value='<b>Study area</b>'), HBox(children=(FloatText(value=0.0, description='Min Lat'), Fl…"
      ]
     },
     "metadata": {},
     "output_type": "display_data"
    }
   ],
   "source": [
    "from ipyleaflet import Map, DrawControl, basemaps, Rectangle, LayersControl\n",
    "import ipywidgets as w\n",
    "from IPython.display import display, clear_output\n",
    "from math import inf\n",
    "\n",
    "def geometry_bbox(geo_json_geometry):\n",
    "    def walk_coords(coords):\n",
    "        if isinstance(coords[0], (float, int)):  \n",
    "            yield coords\n",
    "        else:\n",
    "            for c in coords:\n",
    "                yield from walk_coords(c)\n",
    "\n",
    "    min_lon, min_lat = inf, inf\n",
    "    max_lon, max_lat = -inf, -inf\n",
    "    for lon, lat in walk_coords(geo_json_geometry[\"coordinates\"]):\n",
    "        min_lon, min_lat = min(min_lat, lat), min(min_lon, lon)  # swapped\n",
    "        max_lon, max_lat = max(max_lat, lat), max(max_lon, lon)\n",
    "    return [min_lon, min_lat, max_lon, max_lat]\n",
    "\n",
    "def valid_bbox(b):\n",
    "    min_lon, min_lat, max_lon, max_lat = b\n",
    "    return (-180 <= min_lon < max_lon <= 180) and (-90 <= min_lat < max_lat <= 90)\n",
    "\n",
    "m = Map(center=(20, 0), zoom=2, basemap=basemaps.OpenStreetMap.Mapnik)\n",
    "m.layout.height = \"520px\"\n",
    "m.add_control(LayersControl(position=\"topright\"))\n",
    "\n",
    "draw = DrawControl(\n",
    "    rectangle={\"shapeOptions\": {\"color\": \"#ff7800\"}}, \n",
    "    polygon={}, circlemarker={}, circle={}, polyline={}, marker={}\n",
    ")\n",
    "m.add_control(draw)\n",
    "\n",
    "rect_layer = None\n",
    "bbox = None \n",
    "\n",
    "min_lat_w = w.FloatText(description=\"Min Lat\")\n",
    "min_lon_w = w.FloatText(description=\"Min Lon\")\n",
    "max_lat_w = w.FloatText(description=\"Max Lat\")\n",
    "max_lon_w = w.FloatText(description=\"Max Lon\")\n",
    "\n",
    "use_btn   = w.Button(description=\"Use these coordinates\", button_style=\"success\")\n",
    "clear_btn = w.Button(description=\"Clear\", button_style=\"warning\")\n",
    "status_out = w.Output()\n",
    "\n",
    "def set_status(text):\n",
    "    with status_out:\n",
    "        clear_output()\n",
    "        print(text)\n",
    "\n",
    "def draw_rectangle_from_bbox(b):\n",
    "    global rect_layer\n",
    "    if rect_layer and rect_layer in m.layers:\n",
    "        m.remove_layer(rect_layer)\n",
    "    rect_layer = Rectangle(\n",
    "        bounds=((b[1], b[0]), (b[3], b[2])),\n",
    "        color=\"#ff7800\",\n",
    "        fill_color=\"#ff7800\",\n",
    "        fill_opacity=0.1,\n",
    "    )\n",
    "    m.add_layer(rect_layer)\n",
    "\n",
    "def on_use_clicked(_):\n",
    "    global bbox\n",
    "    b = [min_lon_w.value, min_lat_w.value, max_lon_w.value, max_lat_w.value]\n",
    "    if valid_bbox(b):\n",
    "        bbox = b\n",
    "        draw_rectangle_from_bbox(b)\n",
    "        set_status(f\"BBOX set: {bbox}\")\n",
    "    else:\n",
    "        set_status(\"Invalid BBOX (check values).\")\n",
    "\n",
    "def on_clear_clicked(_):\n",
    "    global bbox, rect_layer\n",
    "    bbox = None\n",
    "    if rect_layer and rect_layer in m.layers:\n",
    "        m.remove_layer(rect_layer)\n",
    "        rect_layer = None\n",
    "    min_lat_w.value = min_lon_w.value = max_lat_w.value = max_lon_w.value = 0.0\n",
    "    set_status(\"Cleared.\")\n",
    "\n",
    "use_btn.on_click(on_use_clicked)\n",
    "clear_btn.on_click(on_clear_clicked)\n",
    "\n",
    "def handle_draw(target, action, geo_json):\n",
    "    global bbox\n",
    "    g = geo_json[\"geometry\"]\n",
    "    b = geometry_bbox(g)\n",
    "    min_lon_w.value, min_lat_w.value, max_lon_w.value, max_lat_w.value = b\n",
    "    bbox = b\n",
    "    set_status(f\"ROI drawn → BBOX {bbox}\")\n",
    "\n",
    "draw.on_draw(handle_draw)\n",
    "\n",
    "display(m)\n",
    "display(\n",
    "    w.VBox([\n",
    "        w.HTML(\"<b>Study area</b>\"),\n",
    "        w.HBox([min_lat_w, min_lon_w, max_lat_w, max_lon_w]),\n",
    "        w.HBox([use_btn, clear_btn]),\n",
    "        status_out\n",
    "    ])\n",
    ")\n"
   ]
  },
  {
   "cell_type": "code",
   "execution_count": null,
   "id": "eb28dae7-c2a5-4d37-a439-ab46c310c557",
   "metadata": {},
   "outputs": [],
   "source": []
  }
 ],
 "metadata": {
  "kernelspec": {
   "display_name": "Python (Pixi)",
   "language": "python",
   "name": "pixi-kernel-python3"
  },
  "language_info": {
   "codemirror_mode": {
    "name": "ipython",
    "version": 3
   },
   "file_extension": ".py",
   "mimetype": "text/x-python",
   "name": "python",
   "nbconvert_exporter": "python",
   "pygments_lexer": "ipython3",
   "version": "3.12.11"
  },
  "pixi-kernel": {
   "environment": "default"
  }
 },
 "nbformat": 4,
 "nbformat_minor": 5
}
