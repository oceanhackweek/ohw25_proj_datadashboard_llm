{
 "cells": [
  {
   "cell_type": "code",
   "execution_count": 13,
   "id": "54062882-895b-4ad0-a798-40b52c276718",
   "metadata": {
    "editable": true,
    "slideshow": {
     "slide_type": "slide"
    },
    "tags": []
   },
   "outputs": [
    {
     "data": {
      "application/vnd.jupyter.widget-view+json": {
       "model_id": "592b2143d7644ca595a6adf90ba0e1ef",
       "version_major": 2,
       "version_minor": 0
      },
      "text/plain": [
       "Map(center=[40, -100], controls=(ZoomControl(options=['position', 'zoom_in_text', 'zoom_in_title', 'zoom_out_t…"
      ]
     },
     "execution_count": 13,
     "metadata": {},
     "output_type": "execute_result"
    }
   ],
   "source": [
    "from ipyleaflet import Map, DrawControl, Rectangle\n",
    "import pandas as pd\n",
    "\n",
    "df = pd.DataFrame(columns=['southwest', 'northeast'])\n",
    "\n",
    "m = Map(center=(40, -100), zoom=4)\n",
    "\n",
    "draw_control = DrawControl(\n",
    "    rectangle={\"shapeOptions\": {\"color\": \"#0000FF\"}},\n",
    "    polyline={}, polygon={}, circle={}, circlemarker={}, marker={}\n",
    ")\n",
    "\n",
    "def handle_draw(target, action, geo_json):\n",
    "    if action == 'created' and geo_json['geometry']['type'] == 'Polygon':\n",
    "        coords = geo_json['geometry']['coordinates'][0]\n",
    "        lats = [c[1] for c in coords]\n",
    "        lons = [c[0] for c in coords]\n",
    "        sw = (min(lats), min(lons))\n",
    "        ne = (max(lats), max(lons))\n",
    "        df.loc[len(df)] = [sw, ne]\n",
    "        print(f\"Rectangle added: SW={sw}, NE={ne}\")\n",
    "        print(df)\n",
    "draw_control.on_draw(handle_draw)\n",
    "m.add_control(draw_control)\n",
    "\n",
    "m"
   ]
  },
  {
   "cell_type": "code",
   "execution_count": null,
   "id": "eb28dae7-c2a5-4d37-a439-ab46c310c557",
   "metadata": {},
   "outputs": [],
   "source": []
  }
 ],
 "metadata": {
  "kernelspec": {
   "display_name": "Python (Pixi)",
   "language": "python",
   "name": "pixi-kernel-python3"
  },
  "language_info": {
   "codemirror_mode": {
    "name": "ipython",
    "version": 3
   },
   "file_extension": ".py",
   "mimetype": "text/x-python",
   "name": "python",
   "nbconvert_exporter": "python",
   "pygments_lexer": "ipython3",
   "version": "3.12.11"
  },
  "pixi-kernel": {
   "environment": "default"
  }
 },
 "nbformat": 4,
 "nbformat_minor": 5
}
