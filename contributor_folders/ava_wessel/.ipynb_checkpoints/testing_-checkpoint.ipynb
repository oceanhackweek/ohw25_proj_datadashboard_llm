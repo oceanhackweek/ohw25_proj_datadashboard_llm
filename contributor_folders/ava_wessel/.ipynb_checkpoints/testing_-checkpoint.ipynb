{
 "cells": [
  {
   "cell_type": "code",
   "execution_count": 12,
   "id": "54062882-895b-4ad0-a798-40b52c276718",
   "metadata": {
    "editable": true,
    "slideshow": {
     "slide_type": "slide"
    },
    "tags": []
   },
   "outputs": [
    {
     "ename": "IndentationError",
     "evalue": "unindent does not match any outer indentation level (<string>, line 15)",
     "output_type": "error",
     "traceback": [
      "\u001b[0;36m  File \u001b[0;32m<string>:15\u001b[0;36m\u001b[0m\n\u001b[0;31m    def create_map():\u001b[0m\n\u001b[0m                     ^\u001b[0m\n\u001b[0;31mIndentationError\u001b[0m\u001b[0;31m:\u001b[0m unindent does not match any outer indentation level\n"
     ]
    }
   ],
   "source": [
    "from ipyleaflet import Map, DrawControl, Rectangle\n",
    "import pandas as pd\n",
    "\n",
    "df = pd.DataFrame(columns=['southwest', 'northeast'])\n",
    "\n",
    "m = Map(center=(40, -100), zoom=4)\n",
    "\n",
    "draw_control = DrawControl(\n",
    "    rectangle={\"shapeOptions\": {\"color\": \"#0000FF\"}},\n",
    "    polyline={}, polygon={}, circle={}, circlemarker={}, marker={}\n",
    ")\n",
    "\n",
    "def handle_draw(target, action, geo_json):\n",
    "    if action == 'created' and geo_json['geometry']['type'] == 'Polygon':\n",
    "        coords = geo_json['geometry']['coordinates'][0]\n",
    "        lats = [c[1] for c in coords]\n",
    "        lons = [c[0] for c in coords]\n",
    "        sw = (min(lats), min(lons))\n",
    "        ne = (max(lats), max(lons))\n",
    "        df.loc[len(df)] = [sw, ne]\n",
    "        print(f\"Rectangle added: SW={sw}, NE={ne}\")\n",
    "        print(df)\n",
    "draw_control.on_draw(handle_draw)\n",
    "m.add_control(draw_control)\n",
    "\n",
    "m"
   ]
  },
  {
   "cell_type": "code",
   "execution_count": null,
   "id": "eb28dae7-c2a5-4d37-a439-ab46c310c557",
   "metadata": {},
   "outputs": [],
   "source": []
  }
 ],
 "metadata": {
  "kernelspec": {
   "display_name": "Python (Pixi)",
   "language": "python",
   "name": "pixi-kernel-python3"
  },
  "language_info": {
   "codemirror_mode": {
    "name": "ipython",
    "version": 3
   },
   "file_extension": ".py",
   "mimetype": "text/x-python",
   "name": "python",
   "nbconvert_exporter": "python",
   "pygments_lexer": "ipython3",
   "version": "3.12.11"
  },
  "pixi-kernel": {
   "environment": "default"
  }
 },
 "nbformat": 4,
 "nbformat_minor": 5
}
