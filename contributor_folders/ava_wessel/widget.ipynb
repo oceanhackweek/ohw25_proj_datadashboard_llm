{
 "cells": [
  {
   "cell_type": "code",
   "execution_count": 7,
   "id": "d4b7d4c1-9a40-4415-a19e-2d0b38844d04",
   "metadata": {},
   "outputs": [],
   "source": [
    "import anywidget\n",
    "import traitlets\n",
    "import pandas as pd\n",
    "from ipyleaflet import Map, DrawControl\n",
    "from ipywidgets import VBox, Output\n",
    "\n"
   ]
  },
  {
   "cell_type": "code",
   "execution_count": 8,
   "id": "d94c007f-4ba3-43f1-8174-447748a48d7e",
   "metadata": {},
   "outputs": [
    {
     "data": {
      "application/vnd.jupyter.widget-view+json": {
       "model_id": "872857b3cd7f41a38079252dfe6615ee",
       "version_major": 2,
       "version_minor": 1
      },
      "text/plain": [
       "MapWidget()"
      ]
     },
     "metadata": {},
     "output_type": "display_data"
    }
   ],
   "source": [
    "class MapWidget(anywidget.AnyWidget):\n",
    "    data = traitlets.Any().tag(sync=True)\n",
    "    def __init__(self, center=(40, -100), zoom=4, **kwargs):\n",
    "        super().__init__(**kwargs)\n",
    "        self.df = pd.DataFrame(columns=['southwest', 'northeast'])\n",
    "        self.map = Map(center=center, zoom=zoom)\n",
    "        self.draw_control = DrawControl(\n",
    "            rectangle={\"shapeOptions\": {\"color\": \"#0000FF\"}}, polyline={}, polygon={}, circle={}, circlemarker={}, marker={})\n",
    "        self.map.add_control(self.draw_control)\n",
    "        self.draw_control.on_draw(self.handle_draw)\n",
    "        self.out = Output()\n",
    "        self.children = [self.map, self.out]\n",
    "        \n",
    "    def handle_draw(self, target, action, geo_json):\n",
    "        if action == 'created' and geo_json['geometry']['type'] == 'Polygon':\n",
    "            coords = geo_json['geometry']['coordinates'][0]\n",
    "            lats = [c[1] for c in coords]\n",
    "            lons = [c[0] for c in coords]\n",
    "            sw = (min(lats), min(lons))\n",
    "            ne = (max(lats), max(lons))\n",
    "            self.df.loc[len(self.df)] = [sw, ne]\n",
    "            self.data = self.df.to_dict(orient=\"records\")\n",
    "            with self.out:\n",
    "                print(f\"Rectangle added: SW={sw}, NE={ne}\")\n",
    "                print(self.df)\n",
    "\n",
    "widget = MapWidget()\n",
    "display(widget)"
   ]
  }
 ],
 "metadata": {
  "kernelspec": {
   "display_name": "Python (Pixi)",
   "language": "python",
   "name": "pixi-kernel-python3"
  },
  "language_info": {
   "codemirror_mode": {
    "name": "ipython",
    "version": 3
   },
   "file_extension": ".py",
   "mimetype": "text/x-python",
   "name": "python",
   "nbconvert_exporter": "python",
   "pygments_lexer": "ipython3",
   "version": "3.12.11"
  }
 },
 "nbformat": 4,
 "nbformat_minor": 5
}
