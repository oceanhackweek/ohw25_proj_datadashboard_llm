{
 "cells": [
  {
   "cell_type": "code",
   "execution_count": 2,
   "id": "8d62f199-5830-460c-b996-e4c1c6b374d0",
   "metadata": {},
   "outputs": [
    {
     "data": {
      "text/plain": [
       "True"
      ]
     },
     "execution_count": 2,
     "metadata": {},
     "output_type": "execute_result"
    }
   ],
   "source": [
    "from langchain_openai import ChatOpenAI\n",
    "import os \n",
    "from dotenv import load_dotenv\n",
    "load_dotenv()"
   ]
  },
  {
   "cell_type": "code",
   "execution_count": 3,
   "id": "7b3011e2-2ad1-4cb6-b5ef-19feb9f5022f",
   "metadata": {},
   "outputs": [],
   "source": [
    "from langchain.prompts import ChatPromptTemplate\n",
    "from langchain_core.output_parsers import StrOutputParser"
   ]
  },
  {
   "cell_type": "code",
   "execution_count": 4,
   "id": "9cae35ac-147c-457a-8324-501ceab91858",
   "metadata": {},
   "outputs": [],
   "source": [
    "import xarray as xr"
   ]
  },
  {
   "cell_type": "code",
   "execution_count": 5,
   "id": "f96d4056-aaf4-4be4-8944-642ce5f4b344",
   "metadata": {},
   "outputs": [],
   "source": [
    "from arraylake import Client"
   ]
  },
  {
   "cell_type": "code",
   "execution_count": 6,
   "id": "a4411993-62a3-44d4-857e-1adbc3ed3985",
   "metadata": {},
   "outputs": [],
   "source": [
    "from langchain.agents import initialize_agent, AgentType\n",
    "from langchain.tools import Tool, StructuredTool\n",
    "from langchain_experimental.utilities import PythonREPL\n",
    "from langchain.prompts import MessagesPlaceholder\n",
    "from langchain.agents import AgentExecutor, create_tool_calling_agent"
   ]
  },
  {
   "cell_type": "code",
   "execution_count": 7,
   "id": "1b52b99a-4ef5-41df-93a8-876b2022d832",
   "metadata": {},
   "outputs": [],
   "source": [
    "import uuid\n"
   ]
  },
  {
   "cell_type": "code",
   "execution_count": 8,
   "id": "9c930d1b-8fac-4d3e-b545-3b4930143128",
   "metadata": {},
   "outputs": [],
   "source": [
    "HF_TOKEN = os.environ[\"HF_TOKEN\"]"
   ]
  },
  {
   "cell_type": "code",
   "execution_count": 9,
   "id": "aa7de930-95fe-4e73-a89a-6c6738b725af",
   "metadata": {},
   "outputs": [],
   "source": [
    "llm = ChatOpenAI(\n",
    "    base_url=\"https://router.huggingface.co/v1\",\n",
    "    api_key=HF_TOKEN,\n",
    "    model=\"openai/gpt-oss-20b:fireworks-ai\" \n",
    ")"
   ]
  },
  {
   "cell_type": "code",
   "execution_count": 10,
   "id": "9a75557a-745f-413a-bf83-54fb54cdb49a",
   "metadata": {},
   "outputs": [],
   "source": [
    "python_repl = PythonREPL()"
   ]
  },
  {
   "cell_type": "code",
   "execution_count": 11,
   "id": "8e2c222d-7bf5-4178-b488-e888c1f55d0a",
   "metadata": {},
   "outputs": [],
   "source": [
    "python_repl_tool = Tool(\n",
    "    name=\"python_repl\",\n",
    "    func=python_repl.run,\n",
    "    description=\"\"\"\n",
    "    You are a Python REPL specialized for scientific data analysis.\n",
    "\n",
    "    You receive:\n",
    "    - Dataset information (including how to access it) from Tool 1.\n",
    "    - A file path to the downloaded dataset from Tool 2.\n",
    "    - Optionally, an example analysis function from Tool 1 that may be relevant to the query.\n",
    "    \n",
    "    Your job:\n",
    "    1. If an example function is provided and fits the user’s query, use it directly with the dataset.\n",
    "    2. If no suitable example function is provided, write your own analysis code using standard scientific Python packages such as:\n",
    "       - xarray (for handling datasets)\n",
    "       - matplotlib (for plotting, with clean labels and colorbars)\n",
    "       - numpy (for computations)\n",
    "       - cartopy or geopandas (if maps are needed)\n",
    "       - cmocean or matplotlib colormaps (for nice scientific colormaps)\n",
    "    3. Save all plots to files (e.g., `output.png`) and print the filename.\n",
    "    4. Keep your code clean, minimal, and runnable in a single Python cell.\n",
    "    5. If user’s request cannot be completed, return a helpful error message explaining why.\n",
    "    \n",
    "    Guidelines:\n",
    "    - Always open the dataset using xarray from the provided file path.\n",
    "    - Assume the dataset may be large: use efficient operations (`.sel`, `.isel`, `.mean`, `.plot`, etc.).\n",
    "    - Include titles, axis labels, and legends where appropriate.\n",
    "    - Prefer clarity and readability of code over cleverness.\n",
    "    - Do not invent dataset fields—only use those provided in the dataset info.\n",
    "\n",
    "    \"\"\",\n",
    ")"
   ]
  },
  {
   "cell_type": "code",
   "execution_count": 18,
   "id": "597e2dc3-606b-47a0-8732-b0aef3c5fcc0",
   "metadata": {},
   "outputs": [],
   "source": [
    "import xarray as xr\n",
    "from pathlib import Path\n",
    "import uuid\n",
    "\n",
    "def read_io(start: str | None = None, end: str | None = None, save: bool = True) -> xr.Dataset:\n",
    "    \"\"\"\n",
    "    Load the Indian Ocean dataset from GCS, optionally filter by time,\n",
    "    and optionally save to llm_downloads/<uuid>.nc.\n",
    "    \n",
    "    Parameters\n",
    "    ----------\n",
    "    start : str, optional\n",
    "        Start time (inclusive), e.g., \"2000-01-01\".\n",
    "    end : str, optional\n",
    "        End time (inclusive), e.g., \"2005-12-31\".\n",
    "    save : bool, default=True\n",
    "        If True, saves the dataset to llm_downloads/<uuid>.nc.\n",
    "    \n",
    "    Returns\n",
    "    -------\n",
    "    xr.Dataset\n",
    "        The loaded (and optionally filtered) dataset.\n",
    "    \"\"\"\n",
    "    dataset = xr.open_dataset(\n",
    "        \"gcs://nmfs_odp_nwfsc/CB/mind_the_chl_gap/IO.zarr\",\n",
    "        engine=\"zarr\",\n",
    "        backend_kwargs={\"storage_options\": {\"token\": \"anon\"}},\n",
    "        consolidated=True\n",
    "    )\n",
    "\n",
    "    if start or end:\n",
    "        dataset = dataset.sel(time=slice(start, end))\n",
    "\n",
    "    if save:\n",
    "        path = Path(\"llm_downloads\") / f\"{uuid.uuid4()}.nc\"\n",
    "        path.parent.mkdir(parents=True, exist_ok=True)\n",
    "        dataset.to_netcdf(path)\n",
    "        print(f\"Saved dataset to {path}\")\n",
    "\n",
    "    return path\n"
   ]
  },
  {
   "cell_type": "code",
   "execution_count": 19,
   "id": "9febbb2a-65e2-4c7c-9e33-460b39e95dc1",
   "metadata": {},
   "outputs": [],
   "source": [
    "io_tool = StructuredTool.from_function(\n",
    "    func=read_io,\n",
    "    name=\"read_indian_ocean\",\n",
    "    description=\"loads the indian ocean dataset and returns the path it's saved to.\"\n",
    ")"
   ]
  },
  {
   "cell_type": "code",
   "execution_count": 20,
   "id": "7caafbfa-7c0b-4410-9dca-348ed5efc81a",
   "metadata": {},
   "outputs": [],
   "source": [
    "tools = [python_repl_tool, io_tool]"
   ]
  },
  {
   "cell_type": "code",
   "execution_count": 21,
   "id": "92e9f40e-83fb-4de3-bc89-087c35bc5567",
   "metadata": {},
   "outputs": [],
   "source": [
    "prompt = ChatPromptTemplate.from_messages(\n",
    "    [\n",
    "        (\"system\", \"You are a data analyst that can answer general questions about data, as well as make plots and do some basic analysis using a python REPL tool. Use the path returned from the tools to read files for analysis. If it fails, keep trying. You read the file from \"),\n",
    "        (\"user\", \"{input}\"),\n",
    "        MessagesPlaceholder(variable_name=\"agent_scratchpad\"),\n",
    "    ]\n",
    ")"
   ]
  },
  {
   "cell_type": "code",
   "execution_count": 22,
   "id": "69d1e2be-2a27-4778-aba3-e61baeb0c7d4",
   "metadata": {},
   "outputs": [],
   "source": [
    "agent = create_tool_calling_agent(\n",
    "    llm=llm,\n",
    "    tools=tools,\n",
    "    prompt=prompt,\n",
    ")\n",
    "\n",
    "agent_executor = AgentExecutor(agent=agent, tools=tools, verbose=True)"
   ]
  },
  {
   "cell_type": "code",
   "execution_count": null,
   "id": "ed7bfa32-350e-4e7c-865b-981326b01bb0",
   "metadata": {},
   "outputs": [
    {
     "name": "stdout",
     "output_type": "stream",
     "text": [
      "\n",
      "\n",
      "\u001b[1m> Entering new AgentExecutor chain...\u001b[0m\n",
      "\u001b[32;1m\u001b[1;3m\n",
      "Invoking: `read_indian_ocean` with `{'start': '2020-01-01T00:00:00', 'end': '2020-01-01T01:00:00', 'save': True}`\n",
      "\n",
      "\n",
      "\u001b[0mSaved dataset to llm_downloads/736b530c-b121-410a-b1d6-e59573b59bbd.nc\n",
      "\u001b[33;1m\u001b[1;3mllm_downloads/736b530c-b121-410a-b1d6-e59573b59bbd.nc\u001b[0m\u001b[32;1m\u001b[1;3m\n",
      "Invoking: `python_repl` with `import xarray as xr\n",
      "import matplotlib.pyplot as plt\n",
      "\n",
      "# Open dataset\n",
      "path = 'llm_downloads/736b530c-b121-410a-b1d6-e59573b59bbd.nc'\n",
      "# open as chunked\n",
      "ds = xr.open_dataset(path, chunks={})\n",
      "# choose variable, e.g., 'sst'\n",
      "var = 'sst'\n",
      "if var not in ds:\n",
      "    # find similar\n",
      "    var = 'sea_surface_temperature'\n",
      "\n",
      "# subset time\n",
      "subset = ds[var].sel(time=slice('2020-01-01T00:00:00','2020-01-01T01:00:00'))\n",
      "# plot first timestamp\n",
      "plt.figure(figsize=(8,4))\n",
      "subset.isel(time=0).plot(cmap='viridis')\n",
      "plt.title(f'{var} on {subset.time.values[0]}')\n",
      "plt.savefig('output.png')\n",
      "print('Saved plot to output.png')`\n",
      "\n",
      "\n",
      "\u001b[0m"
     ]
    }
   ],
   "source": [
    "r = agent_executor.invoke({\"input\": \"can you please plot a variable of your choice from the indian ocean dataset. just do 1 hour worth, i.e. provide a start and end to the function.\"})"
   ]
  },
  {
   "cell_type": "code",
   "execution_count": null,
   "id": "39fe98f1-08b1-4a90-ab62-86deef2ab6a9",
   "metadata": {},
   "outputs": [],
   "source": []
  }
 ],
 "metadata": {
  "kernelspec": {
   "display_name": "Python 3 (ipykernel)",
   "language": "python",
   "name": "python3"
  },
  "language_info": {
   "codemirror_mode": {
    "name": "ipython",
    "version": 3
   },
   "file_extension": ".py",
   "mimetype": "text/x-python",
   "name": "python",
   "nbconvert_exporter": "python",
   "pygments_lexer": "ipython3",
   "version": "3.12.11"
  }
 },
 "nbformat": 4,
 "nbformat_minor": 5
}
