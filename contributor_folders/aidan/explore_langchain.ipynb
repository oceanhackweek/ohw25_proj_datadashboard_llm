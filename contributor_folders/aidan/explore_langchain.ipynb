{
 "cells": [
  {
   "cell_type": "code",
   "execution_count": 4,
   "id": "8d62f199-5830-460c-b996-e4c1c6b374d0",
   "metadata": {},
   "outputs": [
    {
     "data": {
      "text/plain": [
       "True"
      ]
     },
     "execution_count": 4,
     "metadata": {},
     "output_type": "execute_result"
    }
   ],
   "source": [
    "from langchain_openai import ChatOpenAI\n",
    "import os \n",
    "from dotenv import load_dotenv\n",
    "load_dotenv()"
   ]
  },
  {
   "cell_type": "code",
   "execution_count": 2,
   "id": "7b3011e2-2ad1-4cb6-b5ef-19feb9f5022f",
   "metadata": {},
   "outputs": [],
   "source": [
    "from langchain.prompts import ChatPromptTemplate\n",
    "from langchain_core.output_parsers import StrOutputParser"
   ]
  },
  {
   "cell_type": "code",
   "execution_count": 3,
   "id": "9c930d1b-8fac-4d3e-b545-3b4930143128",
   "metadata": {},
   "outputs": [],
   "source": [
    "HF_TOKEN = os.environ[\"HF_TOKEN\"]"
   ]
  },
  {
   "cell_type": "code",
   "execution_count": 9,
   "id": "aa7de930-95fe-4e73-a89a-6c6738b725af",
   "metadata": {},
   "outputs": [],
   "source": [
    "llm = ChatOpenAI(\n",
    "    base_url=\"https://router.huggingface.co/v1\",\n",
    "    api_key=HF_TOKEN,\n",
    "    model=\"openai/gpt-oss-20b:fireworks-ai\" \n",
    ")"
   ]
  },
  {
   "cell_type": "code",
   "execution_count": 10,
   "id": "41ea9225-21aa-4026-8393-7109f5401df2",
   "metadata": {},
   "outputs": [],
   "source": [
    "prompt = ChatPromptTemplate.from_messages([\n",
    "    (\"system\", \"You shall answer my questions\"),\n",
    "    (\"human\", \"{question}\")\n",
    "])"
   ]
  },
  {
   "cell_type": "code",
   "execution_count": 11,
   "id": "0bf8c583-f053-41d9-bfe4-eddfcd00f528",
   "metadata": {},
   "outputs": [],
   "source": [
    "chain_no_context = prompt | llm | StrOutputParser()"
   ]
  },
  {
   "cell_type": "code",
   "execution_count": 12,
   "id": "e706ae18-ac5e-4669-aac1-2f6bb98337bf",
   "metadata": {},
   "outputs": [],
   "source": [
    "resp = chain_no_context.invoke({\"question\": \"hey buddy\"})"
   ]
  },
  {
   "cell_type": "code",
   "execution_count": 13,
   "id": "d3caa552-8b70-4d44-b31b-209c730f51f5",
   "metadata": {},
   "outputs": [
    {
     "data": {
      "text/plain": [
       "'Hey there! How can I help you today?'"
      ]
     },
     "execution_count": 13,
     "metadata": {},
     "output_type": "execute_result"
    }
   ],
   "source": [
    "resp"
   ]
  },
  {
   "cell_type": "code",
   "execution_count": 14,
   "id": "c48c0b5a-95e0-45ed-bca7-033baecac369",
   "metadata": {},
   "outputs": [],
   "source": [
    "from arraylake import Client"
   ]
  },
  {
   "cell_type": "code",
   "execution_count": 15,
   "id": "0001cc2c-3fd2-4665-9f7f-7dfabf86fb44",
   "metadata": {},
   "outputs": [],
   "source": [
    "import xarray as xr"
   ]
  },
  {
   "cell_type": "code",
   "execution_count": 16,
   "id": "86001908-aa14-44b5-9f56-06e7bbe12970",
   "metadata": {},
   "outputs": [],
   "source": [
    "def read_arraylake_dataset(repo_name: str, group_name: str, variable: str = \"all\", branch: str = \"main\") -> xr.Dataset:\n",
    "    \n",
    "    client = Client()\n",
    "    \n",
    "    repo = client.get_repo(repo_name)\n",
    "    \n",
    "    session = repo.readonly_session(branch=branch)\n",
    "    \n",
    "    ds = xr.open_zarr(session.store, group=group_name, consolidated=False)\n",
    "\n",
    "    if variable != \"all\":\n",
    "        ds = ds[variable]\n",
    "    \n",
    "    return ds\n"
   ]
  },
  {
   "cell_type": "code",
   "execution_count": null,
   "id": "3acde5d4-3299-4a30-8624-2f40af33bf17",
   "metadata": {},
   "outputs": [],
   "source": [
    "read_arraylake_dataset(\n",
    "    \"earthmover-public/era5-surface-aws\",\n",
    "    \"spatial\",\n",
    "    \"sst\"\n",
    ")"
   ]
  },
  {
   "cell_type": "code",
   "execution_count": 20,
   "id": "00fff333-8015-4776-92bc-88700297235a",
   "metadata": {},
   "outputs": [],
   "source": [
    "def read_dataset(\n",
    "    source: str,\n",
    "    **kwargs\n",
    "):\n",
    "    if source == \"arraylake\":\n",
    "        return read_arraylake_dataset(**kwargs)\n",
    "    else:\n",
    "        # this is where we will have functions for \n",
    "        # aws, gcp, etc.\n",
    "        raise NotImplementedError()"
   ]
  },
  {
   "cell_type": "code",
   "execution_count": 23,
   "id": "36d07847-96f0-40f7-965d-0894afd7b837",
   "metadata": {},
   "outputs": [],
   "source": [
    "ds = read_dataset(\n",
    "    \"arraylake\",\n",
    "    repo_name=\"earthmover-public/era5-surface-aws\",\n",
    "    group_name=\"spatial\"\n",
    ")"
   ]
  },
  {
   "cell_type": "code",
   "execution_count": 24,
   "id": "cc7498ef-3aea-4747-ba81-f5aaf83575de",
   "metadata": {},
   "outputs": [
    {
     "data": {
      "text/plain": [
       "Frozen({'blh': <xarray.Variable (time: 438312, latitude: 721, longitude: 1440)> Size: 2TB\n",
       "dask.array<open_dataset-blh, shape=(438312, 721, 1440), dtype=float32, chunksize=(1, 721, 1440), chunktype=numpy.ndarray>\n",
       "Attributes: (12/14)\n",
       "    long_name:                                          Boundary layer height\n",
       "    short_name:                                         blh\n",
       "    units:                                              m\n",
       "    original_format:                                    WMO GRIB 1 with ECMWF...\n",
       "    ecmwf_local_table:                                  128\n",
       "    ecmwf_parameter:                                    159\n",
       "    ...                                                 ...\n",
       "    grid_specification:                                 0.25 degree x 0.25 de...\n",
       "    rda_dataset:                                        ds633.0\n",
       "    rda_dataset_url:                                    https:/rda.ucar.edu/d...\n",
       "    rda_dataset_doi:                                    DOI: 10.5065/BH6N-5N20\n",
       "    rda_dataset_group:                                  ERA5 atmospheric surf...\n",
       "    QuantizeGranularBitGroomNumberOfSignificantDigits:  7, 'd2': <xarray.Variable (time: 438312, latitude: 721, longitude: 1440)> Size: 2TB\n",
       "dask.array<open_dataset-d2, shape=(438312, 721, 1440), dtype=float32, chunksize=(1, 721, 1440), chunktype=numpy.ndarray>\n",
       "Attributes: (12/14)\n",
       "    long_name:                                          2 metre dewpoint temp...\n",
       "    short_name:                                         2d\n",
       "    units:                                              K\n",
       "    original_format:                                    WMO GRIB 1 with ECMWF...\n",
       "    ecmwf_local_table:                                  128\n",
       "    ecmwf_parameter:                                    168\n",
       "    ...                                                 ...\n",
       "    grid_specification:                                 0.25 degree x 0.25 de...\n",
       "    rda_dataset:                                        ds633.0\n",
       "    rda_dataset_url:                                    https:/rda.ucar.edu/d...\n",
       "    rda_dataset_doi:                                    DOI: 10.5065/BH6N-5N20\n",
       "    rda_dataset_group:                                  ERA5 atmospheric surf...\n",
       "    QuantizeGranularBitGroomNumberOfSignificantDigits:  7, 'cape': <xarray.Variable (time: 438312, latitude: 721, longitude: 1440)> Size: 2TB\n",
       "dask.array<open_dataset-cape, shape=(438312, 721, 1440), dtype=float32, chunksize=(1, 721, 1440), chunktype=numpy.ndarray>\n",
       "Attributes: (12/14)\n",
       "    long_name:                                          Convective available ...\n",
       "    short_name:                                         cape\n",
       "    units:                                              J kg**-1\n",
       "    original_format:                                    WMO GRIB 1 with ECMWF...\n",
       "    ecmwf_local_table:                                  128\n",
       "    ecmwf_parameter:                                    59\n",
       "    ...                                                 ...\n",
       "    grid_specification:                                 0.25 degree x 0.25 de...\n",
       "    rda_dataset:                                        ds633.0\n",
       "    rda_dataset_url:                                    https:/rda.ucar.edu/d...\n",
       "    rda_dataset_doi:                                    DOI: 10.5065/BH6N-5N20\n",
       "    rda_dataset_group:                                  ERA5 atmospheric surf...\n",
       "    QuantizeGranularBitGroomNumberOfSignificantDigits:  7, 'mslp': <xarray.Variable (time: 438312, latitude: 721, longitude: 1440)> Size: 2TB\n",
       "dask.array<open_dataset-mslp, shape=(438312, 721, 1440), dtype=float32, chunksize=(1, 721, 1440), chunktype=numpy.ndarray>\n",
       "Attributes: (12/14)\n",
       "    long_name:                                          Mean sea level pressure\n",
       "    short_name:                                         msl\n",
       "    units:                                              Pa\n",
       "    original_format:                                    WMO GRIB 1 with ECMWF...\n",
       "    ecmwf_local_table:                                  128\n",
       "    ecmwf_parameter:                                    151\n",
       "    ...                                                 ...\n",
       "    grid_specification:                                 0.25 degree x 0.25 de...\n",
       "    rda_dataset:                                        ds633.0\n",
       "    rda_dataset_url:                                    https:/rda.ucar.edu/d...\n",
       "    rda_dataset_doi:                                    DOI: 10.5065/BH6N-5N20\n",
       "    rda_dataset_group:                                  ERA5 atmospheric surf...\n",
       "    QuantizeGranularBitGroomNumberOfSignificantDigits:  7, 'sd': <xarray.Variable (time: 438312, latitude: 721, longitude: 1440)> Size: 2TB\n",
       "dask.array<open_dataset-sd, shape=(438312, 721, 1440), dtype=float32, chunksize=(1, 721, 1440), chunktype=numpy.ndarray>\n",
       "Attributes: (12/14)\n",
       "    long_name:                                          Snow depth\n",
       "    short_name:                                         sd\n",
       "    units:                                              m of water equivalent\n",
       "    original_format:                                    WMO GRIB 1 with ECMWF...\n",
       "    ecmwf_local_table:                                  128\n",
       "    ecmwf_parameter:                                    141\n",
       "    ...                                                 ...\n",
       "    grid_specification:                                 0.25 degree x 0.25 de...\n",
       "    rda_dataset:                                        ds633.0\n",
       "    rda_dataset_url:                                    https:/rda.ucar.edu/d...\n",
       "    rda_dataset_doi:                                    DOI: 10.5065/BH6N-5N20\n",
       "    rda_dataset_group:                                  ERA5 atmospheric surf...\n",
       "    QuantizeGranularBitGroomNumberOfSignificantDigits:  7, 'swvl1': <xarray.Variable (time: 438312, latitude: 721, longitude: 1440)> Size: 2TB\n",
       "dask.array<open_dataset-swvl1, shape=(438312, 721, 1440), dtype=float32, chunksize=(1, 721, 1440), chunktype=numpy.ndarray>\n",
       "Attributes: (12/14)\n",
       "    long_name:                                          Volumetric soil water...\n",
       "    short_name:                                         swvl1\n",
       "    units:                                              m**3 m**-3\n",
       "    original_format:                                    WMO GRIB 1 with ECMWF...\n",
       "    ecmwf_local_table:                                  128\n",
       "    ecmwf_parameter:                                    39\n",
       "    ...                                                 ...\n",
       "    grid_specification:                                 0.25 degree x 0.25 de...\n",
       "    rda_dataset:                                        ds633.0\n",
       "    rda_dataset_url:                                    https:/rda.ucar.edu/d...\n",
       "    rda_dataset_doi:                                    DOI: 10.5065/BH6N-5N20\n",
       "    rda_dataset_group:                                  ERA5 atmospheric surf...\n",
       "    QuantizeGranularBitGroomNumberOfSignificantDigits:  7, 'sst': <xarray.Variable (time: 438312, latitude: 721, longitude: 1440)> Size: 2TB\n",
       "dask.array<open_dataset-sst, shape=(438312, 721, 1440), dtype=float32, chunksize=(1, 721, 1440), chunktype=numpy.ndarray>\n",
       "Attributes: (12/14)\n",
       "    long_name:                                          Sea surface temperature\n",
       "    short_name:                                         sstk\n",
       "    units:                                              K\n",
       "    original_format:                                    WMO GRIB 1 with ECMWF...\n",
       "    ecmwf_local_table:                                  128\n",
       "    ecmwf_parameter:                                    34\n",
       "    ...                                                 ...\n",
       "    grid_specification:                                 0.25 degree x 0.25 de...\n",
       "    rda_dataset:                                        ds633.0\n",
       "    rda_dataset_url:                                    https:/rda.ucar.edu/d...\n",
       "    rda_dataset_doi:                                    DOI: 10.5065/BH6N-5N20\n",
       "    rda_dataset_group:                                  ERA5 atmospheric surf...\n",
       "    QuantizeGranularBitGroomNumberOfSignificantDigits:  7, 't2': <xarray.Variable (time: 438312, latitude: 721, longitude: 1440)> Size: 2TB\n",
       "dask.array<open_dataset-t2, shape=(438312, 721, 1440), dtype=float32, chunksize=(1, 721, 1440), chunktype=numpy.ndarray>\n",
       "Attributes: (12/14)\n",
       "    long_name:                                          2 metre temperature\n",
       "    short_name:                                         2t\n",
       "    units:                                              K\n",
       "    original_format:                                    WMO GRIB 1 with ECMWF...\n",
       "    ecmwf_local_table:                                  128\n",
       "    ecmwf_parameter:                                    167\n",
       "    ...                                                 ...\n",
       "    grid_specification:                                 0.25 degree x 0.25 de...\n",
       "    rda_dataset:                                        ds633.0\n",
       "    rda_dataset_url:                                    https:/rda.ucar.edu/d...\n",
       "    rda_dataset_doi:                                    DOI: 10.5065/BH6N-5N20\n",
       "    rda_dataset_group:                                  ERA5 atmospheric surf...\n",
       "    QuantizeGranularBitGroomNumberOfSignificantDigits:  7, 'tcc': <xarray.Variable (time: 438312, latitude: 721, longitude: 1440)> Size: 2TB\n",
       "dask.array<open_dataset-tcc, shape=(438312, 721, 1440), dtype=float32, chunksize=(1, 721, 1440), chunktype=numpy.ndarray>\n",
       "Attributes: (12/14)\n",
       "    long_name:                                          Total cloud cover\n",
       "    short_name:                                         tcc\n",
       "    units:                                              (0-1)\n",
       "    original_format:                                    WMO GRIB 1 with ECMWF...\n",
       "    ecmwf_local_table:                                  128\n",
       "    ecmwf_parameter:                                    164\n",
       "    ...                                                 ...\n",
       "    grid_specification:                                 0.25 degree x 0.25 de...\n",
       "    rda_dataset:                                        ds633.0\n",
       "    rda_dataset_url:                                    https:/rda.ucar.edu/d...\n",
       "    rda_dataset_doi:                                    DOI: 10.5065/BH6N-5N20\n",
       "    rda_dataset_group:                                  ERA5 atmospheric surf...\n",
       "    QuantizeGranularBitGroomNumberOfSignificantDigits:  7, 'tcw': <xarray.Variable (time: 438312, latitude: 721, longitude: 1440)> Size: 2TB\n",
       "dask.array<open_dataset-tcw, shape=(438312, 721, 1440), dtype=float32, chunksize=(1, 721, 1440), chunktype=numpy.ndarray>\n",
       "Attributes: (12/14)\n",
       "    long_name:                                          Total column water\n",
       "    short_name:                                         tcw\n",
       "    units:                                              kg m**-2\n",
       "    original_format:                                    WMO GRIB 1 with ECMWF...\n",
       "    ecmwf_local_table:                                  128\n",
       "    ecmwf_parameter:                                    136\n",
       "    ...                                                 ...\n",
       "    grid_specification:                                 0.25 degree x 0.25 de...\n",
       "    rda_dataset:                                        ds633.0\n",
       "    rda_dataset_url:                                    https:/rda.ucar.edu/d...\n",
       "    rda_dataset_doi:                                    DOI: 10.5065/BH6N-5N20\n",
       "    rda_dataset_group:                                  ERA5 atmospheric surf...\n",
       "    QuantizeGranularBitGroomNumberOfSignificantDigits:  7, 'skt': <xarray.Variable (time: 438312, latitude: 721, longitude: 1440)> Size: 2TB\n",
       "dask.array<open_dataset-skt, shape=(438312, 721, 1440), dtype=float32, chunksize=(1, 721, 1440), chunktype=numpy.ndarray>\n",
       "Attributes: (12/14)\n",
       "    long_name:                                          Skin temperature\n",
       "    short_name:                                         skt\n",
       "    units:                                              K\n",
       "    original_format:                                    WMO GRIB 1 with ECMWF...\n",
       "    ecmwf_local_table:                                  128\n",
       "    ecmwf_parameter:                                    235\n",
       "    ...                                                 ...\n",
       "    grid_specification:                                 0.25 degree x 0.25 de...\n",
       "    rda_dataset:                                        ds633.0\n",
       "    rda_dataset_url:                                    https:/rda.ucar.edu/d...\n",
       "    rda_dataset_doi:                                    DOI: 10.5065/BH6N-5N20\n",
       "    rda_dataset_group:                                  ERA5 atmospheric surf...\n",
       "    QuantizeGranularBitGroomNumberOfSignificantDigits:  7, 'stl1': <xarray.Variable (time: 438312, latitude: 721, longitude: 1440)> Size: 2TB\n",
       "dask.array<open_dataset-stl1, shape=(438312, 721, 1440), dtype=float32, chunksize=(1, 721, 1440), chunktype=numpy.ndarray>\n",
       "Attributes: (12/14)\n",
       "    long_name:                                          Soil temperature level 1\n",
       "    short_name:                                         stl1\n",
       "    units:                                              K\n",
       "    original_format:                                    WMO GRIB 1 with ECMWF...\n",
       "    ecmwf_local_table:                                  128\n",
       "    ecmwf_parameter:                                    139\n",
       "    ...                                                 ...\n",
       "    grid_specification:                                 0.25 degree x 0.25 de...\n",
       "    rda_dataset:                                        ds633.0\n",
       "    rda_dataset_url:                                    https:/rda.ucar.edu/d...\n",
       "    rda_dataset_doi:                                    DOI: 10.5065/BH6N-5N20\n",
       "    rda_dataset_group:                                  ERA5 atmospheric surf...\n",
       "    QuantizeGranularBitGroomNumberOfSignificantDigits:  7, 'tcwv': <xarray.Variable (time: 438312, latitude: 721, longitude: 1440)> Size: 2TB\n",
       "dask.array<open_dataset-tcwv, shape=(438312, 721, 1440), dtype=float32, chunksize=(1, 721, 1440), chunktype=numpy.ndarray>\n",
       "Attributes: (12/14)\n",
       "    long_name:                                          Total column water va...\n",
       "    short_name:                                         tcwv\n",
       "    units:                                              kg m**-2\n",
       "    original_format:                                    WMO GRIB 1 with ECMWF...\n",
       "    ecmwf_local_table:                                  128\n",
       "    ecmwf_parameter:                                    137\n",
       "    ...                                                 ...\n",
       "    grid_specification:                                 0.25 degree x 0.25 de...\n",
       "    rda_dataset:                                        ds633.0\n",
       "    rda_dataset_url:                                    https:/rda.ucar.edu/d...\n",
       "    rda_dataset_doi:                                    DOI: 10.5065/BH6N-5N20\n",
       "    rda_dataset_group:                                  ERA5 atmospheric surf...\n",
       "    QuantizeGranularBitGroomNumberOfSignificantDigits:  7, 'u10': <xarray.Variable (time: 438312, latitude: 721, longitude: 1440)> Size: 2TB\n",
       "dask.array<open_dataset-u10, shape=(438312, 721, 1440), dtype=float32, chunksize=(1, 721, 1440), chunktype=numpy.ndarray>\n",
       "Attributes: (12/14)\n",
       "    long_name:                                          10 metre U wind compo...\n",
       "    short_name:                                         10u\n",
       "    units:                                              m s**-1\n",
       "    original_format:                                    WMO GRIB 1 with ECMWF...\n",
       "    ecmwf_local_table:                                  128\n",
       "    ecmwf_parameter:                                    165\n",
       "    ...                                                 ...\n",
       "    grid_specification:                                 0.25 degree x 0.25 de...\n",
       "    rda_dataset:                                        ds633.0\n",
       "    rda_dataset_url:                                    https:/rda.ucar.edu/d...\n",
       "    rda_dataset_doi:                                    DOI: 10.5065/BH6N-5N20\n",
       "    rda_dataset_group:                                  ERA5 atmospheric surf...\n",
       "    QuantizeGranularBitGroomNumberOfSignificantDigits:  7, 'u100': <xarray.Variable (time: 438312, latitude: 721, longitude: 1440)> Size: 2TB\n",
       "dask.array<open_dataset-u100, shape=(438312, 721, 1440), dtype=float32, chunksize=(1, 721, 1440), chunktype=numpy.ndarray>\n",
       "Attributes: (12/14)\n",
       "    long_name:                                          100 metre U wind comp...\n",
       "    short_name:                                         100u\n",
       "    units:                                              m s**-1\n",
       "    original_format:                                    WMO GRIB 1 with ECMWF...\n",
       "    ecmwf_local_table:                                  228\n",
       "    ecmwf_parameter:                                    246\n",
       "    ...                                                 ...\n",
       "    grid_specification:                                 0.25 degree x 0.25 de...\n",
       "    rda_dataset:                                        ds633.0\n",
       "    rda_dataset_url:                                    https:/rda.ucar.edu/d...\n",
       "    rda_dataset_doi:                                    DOI: 10.5065/BH6N-5N20\n",
       "    rda_dataset_group:                                  ERA5 atmospheric surf...\n",
       "    QuantizeGranularBitGroomNumberOfSignificantDigits:  7, 'sp': <xarray.Variable (time: 438312, latitude: 721, longitude: 1440)> Size: 2TB\n",
       "dask.array<open_dataset-sp, shape=(438312, 721, 1440), dtype=float32, chunksize=(1, 721, 1440), chunktype=numpy.ndarray>\n",
       "Attributes: (12/14)\n",
       "    long_name:                                          Surface pressure\n",
       "    short_name:                                         sp\n",
       "    units:                                              Pa\n",
       "    original_format:                                    WMO GRIB 1 with ECMWF...\n",
       "    ecmwf_local_table:                                  128\n",
       "    ecmwf_parameter:                                    134\n",
       "    ...                                                 ...\n",
       "    grid_specification:                                 0.25 degree x 0.25 de...\n",
       "    rda_dataset:                                        ds633.0\n",
       "    rda_dataset_url:                                    https:/rda.ucar.edu/d...\n",
       "    rda_dataset_doi:                                    DOI: 10.5065/BH6N-5N20\n",
       "    rda_dataset_group:                                  ERA5 atmospheric surf...\n",
       "    QuantizeGranularBitGroomNumberOfSignificantDigits:  7, 'v100': <xarray.Variable (time: 438312, latitude: 721, longitude: 1440)> Size: 2TB\n",
       "dask.array<open_dataset-v100, shape=(438312, 721, 1440), dtype=float32, chunksize=(1, 721, 1440), chunktype=numpy.ndarray>\n",
       "Attributes: (12/14)\n",
       "    long_name:                                          100 metre V wind comp...\n",
       "    short_name:                                         100v\n",
       "    units:                                              m s**-1\n",
       "    original_format:                                    WMO GRIB 1 with ECMWF...\n",
       "    ecmwf_local_table:                                  228\n",
       "    ecmwf_parameter:                                    247\n",
       "    ...                                                 ...\n",
       "    grid_specification:                                 0.25 degree x 0.25 de...\n",
       "    rda_dataset:                                        ds633.0\n",
       "    rda_dataset_url:                                    https:/rda.ucar.edu/d...\n",
       "    rda_dataset_doi:                                    DOI: 10.5065/BH6N-5N20\n",
       "    rda_dataset_group:                                  ERA5 atmospheric surf...\n",
       "    QuantizeGranularBitGroomNumberOfSignificantDigits:  7, 'v10': <xarray.Variable (time: 438312, latitude: 721, longitude: 1440)> Size: 2TB\n",
       "dask.array<open_dataset-v10, shape=(438312, 721, 1440), dtype=float32, chunksize=(1, 721, 1440), chunktype=numpy.ndarray>\n",
       "Attributes: (12/14)\n",
       "    long_name:                                          10 metre V wind compo...\n",
       "    short_name:                                         10v\n",
       "    units:                                              m s**-1\n",
       "    original_format:                                    WMO GRIB 1 with ECMWF...\n",
       "    ecmwf_local_table:                                  128\n",
       "    ecmwf_parameter:                                    166\n",
       "    ...                                                 ...\n",
       "    grid_specification:                                 0.25 degree x 0.25 de...\n",
       "    rda_dataset:                                        ds633.0\n",
       "    rda_dataset_url:                                    https:/rda.ucar.edu/d...\n",
       "    rda_dataset_doi:                                    DOI: 10.5065/BH6N-5N20\n",
       "    rda_dataset_group:                                  ERA5 atmospheric surf...\n",
       "    QuantizeGranularBitGroomNumberOfSignificantDigits:  7, 'latitude': <xarray.IndexVariable 'latitude' (latitude: 721)> Size: 6kB\n",
       "array([ 90.  ,  89.75,  89.5 , ..., -89.5 , -89.75, -90.  ], shape=(721,))\n",
       "Attributes:\n",
       "    long_name:   latitude\n",
       "    short_name:  lat\n",
       "    units:       degrees_north\n",
       "    axis:        Y, 'longitude': <xarray.IndexVariable 'longitude' (longitude: 1440)> Size: 12kB\n",
       "array([0.0000e+00, 2.5000e-01, 5.0000e-01, ..., 3.5925e+02, 3.5950e+02,\n",
       "       3.5975e+02], shape=(1440,))\n",
       "Attributes:\n",
       "    long_name:   longitude\n",
       "    short_name:  lon\n",
       "    units:       degrees_east\n",
       "    axis:        X, 'time': <xarray.IndexVariable 'time' (time: 438312)> Size: 4MB\n",
       "array(['1975-01-01T00:00:00.000000000', '1975-01-01T01:00:00.000000000',\n",
       "       '1975-01-01T02:00:00.000000000', ..., '2024-12-31T21:00:00.000000000',\n",
       "       '2024-12-31T22:00:00.000000000', '2024-12-31T23:00:00.000000000'],\n",
       "      shape=(438312,), dtype='datetime64[ns]')\n",
       "Attributes:\n",
       "    long_name:  time\n",
       "    axis:       T})"
      ]
     },
     "execution_count": 24,
     "metadata": {},
     "output_type": "execute_result"
    }
   ],
   "source": [
    "ds.variables"
   ]
  },
  {
   "cell_type": "code",
   "execution_count": 3,
   "id": "8f366135-9a9a-4adc-95ca-3d5e6590519d",
   "metadata": {},
   "outputs": [],
   "source": [
    "from pydantic import BaseModel, Field, confloat\n",
    "from typing import Literal"
   ]
  },
  {
   "cell_type": "code",
   "execution_count": 4,
   "id": "8d500b2f-180f-42b3-a62d-cbbafafd770d",
   "metadata": {},
   "outputs": [],
   "source": [
    "from langchain_core.tools import StructuredTool"
   ]
  },
  {
   "cell_type": "code",
   "execution_count": 5,
   "id": "aa1f29a7-7396-46fb-a2c2-b9539a480d07",
   "metadata": {},
   "outputs": [
    {
     "ename": "SyntaxError",
     "evalue": "invalid syntax (2646928006.py, line 1)",
     "output_type": "error",
     "traceback": [
      "\u001b[0;36m  Cell \u001b[0;32mIn[5], line 1\u001b[0;36m\u001b[0m\n\u001b[0;31m    = StructuredTool.from_function(\u001b[0m\n\u001b[0m    ^\u001b[0m\n\u001b[0;31mSyntaxError\u001b[0m\u001b[0;31m:\u001b[0m invalid syntax\n"
     ]
    }
   ],
   "source": [
    " = StructuredTool.from_function(\n",
    "    extract_arraylake_data,\n",
    "    name=\"extract_arraylake_data\",\n",
    "    description=(),\n",
    "    args_schema=ERA5Params,\n",
    ")"
   ]
  },
  {
   "cell_type": "code",
   "execution_count": null,
   "id": "838fa1a0-bed5-4e9d-a506-9a1681c7e3a5",
   "metadata": {},
   "outputs": [],
   "source": []
  },
  {
   "cell_type": "code",
   "execution_count": null,
   "id": "22387f06-06a1-47e0-af07-a7ddcda4ce86",
   "metadata": {},
   "outputs": [],
   "source": []
  },
  {
   "cell_type": "code",
   "execution_count": null,
   "id": "5d0846fd-45a4-426a-8abc-d82b188f162a",
   "metadata": {},
   "outputs": [],
   "source": []
  },
  {
   "cell_type": "code",
   "execution_count": null,
   "id": "b6cc9ae6-474c-4aa2-9321-89cb21703e09",
   "metadata": {},
   "outputs": [],
   "source": []
  },
  {
   "cell_type": "code",
   "execution_count": 2,
   "id": "eff31dba-873f-4bb2-a04c-6152b43e886c",
   "metadata": {},
   "outputs": [],
   "source": [
    "from dataset import Dataset, SpatialBounds, TemporalBounds, Variables, Access, Variable, DatasetCollection"
   ]
  },
  {
   "cell_type": "code",
   "execution_count": 3,
   "id": "3ae17d9a-e3fe-4cc3-a841-db068cd64a2f",
   "metadata": {},
   "outputs": [
    {
     "data": {
      "text/plain": [
       "dataset.Dataset"
      ]
     },
     "execution_count": 3,
     "metadata": {},
     "output_type": "execute_result"
    }
   ],
   "source": [
    "Dataset"
   ]
  },
  {
   "cell_type": "code",
   "execution_count": 4,
   "id": "3938df60-0c4d-4c5e-a1d7-a6353f97f4b0",
   "metadata": {},
   "outputs": [],
   "source": [
    "d = Dataset(\n",
    "    name=\"Multi-Scale Ultra High Resolution (MUR) Sea Surface Temperature (SST)\",\n",
    "    description=\"A global, gap-free, gridded, daily 1 km Sea Surface Temperature (SST) dataset created by merging multiple Level-2 satellite SST datasets. Those input datasets include the NASA Advanced Microwave Scanning Radiometer-EOS (AMSR-E), the JAXA Advanced Microwave Scanning Radiometer 2 (AMSR-2) on GCOM-W1, the Moderate Resolution Imaging Spectroradiometers (MODIS) on the NASA Aqua and Terra platforms, the US Navy microwave WindSat radiometer, the Advanced Very High Resolution Radiometer (AVHRR) on several NOAA satellites, and in situ SST observations from the NOAA iQuam project. Data are available from 2002 to present in Zarr format. The original source of the MUR data is the NASA JPL Physical Oceanography DAAC.\",\n",
    "    spatial_bounds=SpatialBounds(\n",
    "        min_lat=1.0,\n",
    "        min_lon=1.0,\n",
    "        max_lat=1.0,\n",
    "        max_lon=1.0\n",
    "    ),\n",
    "    temporal_bounds=TemporalBounds(\n",
    "        start_time=\"1234\",\n",
    "        end_time=\"4567\"\n",
    "    ),\n",
    "    variables=Variables(\n",
    "        variables=[Variable(standard_name=\"water temp\", description=\"how hot da water\")]\n",
    "    ),\n",
    "    access=Access(\n",
    "        platform=\"aws\",\n",
    "        path=\"s3://path_to_file.zarr\"\n",
    "    )\n",
    ")"
   ]
  },
  {
   "cell_type": "code",
   "execution_count": 9,
   "id": "e66084c4-30a9-48c5-aee2-13395a551a1a",
   "metadata": {},
   "outputs": [
    {
     "data": {
      "text/plain": [
       "{'datasets': [{'name': 'Multi-Scale Ultra High Resolution (MUR) Sea Surface Temperature (SST)',\n",
       "   'description': 'A global, gap-free, gridded, daily 1 km Sea Surface Temperature (SST) dataset created by merging multiple Level-2 satellite SST datasets. Those input datasets include the NASA Advanced Microwave Scanning Radiometer-EOS (AMSR-E), the JAXA Advanced Microwave Scanning Radiometer 2 (AMSR-2) on GCOM-W1, the Moderate Resolution Imaging Spectroradiometers (MODIS) on the NASA Aqua and Terra platforms, the US Navy microwave WindSat radiometer, the Advanced Very High Resolution Radiometer (AVHRR) on several NOAA satellites, and in situ SST observations from the NOAA iQuam project. Data are available from 2002 to present in Zarr format. The original source of the MUR data is the NASA JPL Physical Oceanography DAAC.',\n",
       "   'temporal_bounds': {'start_time': '1234', 'end_time': '4567'},\n",
       "   'spatial_bounds': {'min_lat': 1.0,\n",
       "    'min_lon': 1.0,\n",
       "    'max_lat': 1.0,\n",
       "    'max_lon': 1.0},\n",
       "   'variables': {'variables': [{'standard_name': 'water temp',\n",
       "      'description': 'how hot da water'}]},\n",
       "   'access': {'platform': 'aws', 'path': 's3://path_to_file.zarr'}}]}"
      ]
     },
     "execution_count": 9,
     "metadata": {},
     "output_type": "execute_result"
    }
   ],
   "source": [
    "json.loads(DatasetCollection(datasets=[d]).json())"
   ]
  },
  {
   "cell_type": "code",
   "execution_count": 8,
   "id": "7f9a2a3b-66c5-4ef8-a1b6-55c112c749ac",
   "metadata": {},
   "outputs": [],
   "source": [
    "import json"
   ]
  },
  {
   "cell_type": "code",
   "execution_count": 33,
   "id": "5153dd47-88e0-4031-8dc3-f75726253606",
   "metadata": {},
   "outputs": [
    {
     "data": {
      "text/plain": [
       "{'name': 'Multi-Scale Ultra High Resolution (MUR) Sea Surface Temperature (SST)',\n",
       " 'description': 'A global, gap-free, gridded, daily 1 km Sea Surface Temperature (SST) dataset created by merging multiple Level-2 satellite SST datasets. Those input datasets include the NASA Advanced Microwave Scanning Radiometer-EOS (AMSR-E), the JAXA Advanced Microwave Scanning Radiometer 2 (AMSR-2) on GCOM-W1, the Moderate Resolution Imaging Spectroradiometers (MODIS) on the NASA Aqua and Terra platforms, the US Navy microwave WindSat radiometer, the Advanced Very High Resolution Radiometer (AVHRR) on several NOAA satellites, and in situ SST observations from the NOAA iQuam project. Data are available from 2002 to present in Zarr format. The original source of the MUR data is the NASA JPL Physical Oceanography DAAC.',\n",
       " 'temporal_bounds': {'start_time': '1234', 'end_time': '4567'},\n",
       " 'spatial_bounds': {'min_lat': 1.0,\n",
       "  'min_lon': 1.0,\n",
       "  'max_lat': 1.0,\n",
       "  'max_lon': 1.0},\n",
       " 'variables': {'variables': [{'standard_name': 'water temp',\n",
       "    'description': 'how hot da water'}]},\n",
       " 'access': {'platform': 'aws', 'path': 's3://path_to_file.zarr'}}"
      ]
     },
     "execution_count": 33,
     "metadata": {},
     "output_type": "execute_result"
    }
   ],
   "source": [
    "json.loads(d.json())"
   ]
  },
  {
   "cell_type": "code",
   "execution_count": null,
   "id": "942b1ddf-8202-4481-88c4-4d0e9120da97",
   "metadata": {},
   "outputs": [],
   "source": []
  },
  {
   "cell_type": "code",
   "execution_count": null,
   "id": "7ad44cc1-f429-4bf6-9c57-ca6784c42838",
   "metadata": {},
   "outputs": [],
   "source": []
  }
 ],
 "metadata": {
  "kernelspec": {
   "display_name": "Python 3 (ipykernel)",
   "language": "python",
   "name": "python3"
  },
  "language_info": {
   "codemirror_mode": {
    "name": "ipython",
    "version": 3
   },
   "file_extension": ".py",
   "mimetype": "text/x-python",
   "name": "python",
   "nbconvert_exporter": "python",
   "pygments_lexer": "ipython3",
   "version": "3.12.11"
  }
 },
 "nbformat": 4,
 "nbformat_minor": 5
}
