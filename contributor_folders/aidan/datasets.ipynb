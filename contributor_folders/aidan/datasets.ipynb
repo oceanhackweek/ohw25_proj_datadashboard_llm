{
 "cells": [
  {
   "cell_type": "code",
   "execution_count": 2,
   "id": "f571ec6c-d60e-4049-a198-25b4dad1b7bb",
   "metadata": {},
   "outputs": [],
   "source": [
    "from dataset import Dataset, SpatialBounds, TemporalBounds, Variables, Access, Variable, DatasetCollection\n",
    "import json"
   ]
  },
  {
   "cell_type": "code",
   "execution_count": 3,
   "id": "e1f9d631-4ba9-435c-bddf-97962db3ccce",
   "metadata": {},
   "outputs": [],
   "source": [
    "d = Dataset(\n",
    "    name=\"Multi-Scale Ultra High Resolution (MUR) Sea Surface Temperature (SST)\",\n",
    "    description=\"A global, gap-free, gridded, daily 1 km Sea Surface Temperature (SST) dataset created by merging multiple Level-2 satellite SST datasets. Those input datasets include the NASA Advanced Microwave Scanning Radiometer-EOS (AMSR-E), the JAXA Advanced Microwave Scanning Radiometer 2 (AMSR-2) on GCOM-W1, the Moderate Resolution Imaging Spectroradiometers (MODIS) on the NASA Aqua and Terra platforms, the US Navy microwave WindSat radiometer, the Advanced Very High Resolution Radiometer (AVHRR) on several NOAA satellites, and in situ SST observations from the NOAA iQuam project. Data are available from 2002 to present in Zarr format. The original source of the MUR data is the NASA JPL Physical Oceanography DAAC.\",\n",
    "    spatial_bounds=SpatialBounds(\n",
    "        min_lat=1.0,\n",
    "        min_lon=1.0,\n",
    "        max_lat=1.0,\n",
    "        max_lon=1.0\n",
    "    ),\n",
    "    temporal_bounds=TemporalBounds(\n",
    "        start_time=\"1234\",\n",
    "        end_time=\"4567\"\n",
    "    ),\n",
    "    variables=Variables(\n",
    "        variables=[Variable(standard_name=\"water temp\", description=\"how hot da water\")]\n",
    "    ),\n",
    "    access=Access(\n",
    "        platform=\"aws\",\n",
    "        path=\"s3://path_to_file.zarr\"\n",
    "    )\n",
    ")"
   ]
  },
  {
   "cell_type": "code",
   "execution_count": 4,
   "id": "0440e690-0fc9-48af-a10a-41283d7bc009",
   "metadata": {},
   "outputs": [
    {
     "data": {
      "text/plain": [
       "{'name': 'Multi-Scale Ultra High Resolution (MUR) Sea Surface Temperature (SST)',\n",
       " 'description': 'A global, gap-free, gridded, daily 1 km Sea Surface Temperature (SST) dataset created by merging multiple Level-2 satellite SST datasets. Those input datasets include the NASA Advanced Microwave Scanning Radiometer-EOS (AMSR-E), the JAXA Advanced Microwave Scanning Radiometer 2 (AMSR-2) on GCOM-W1, the Moderate Resolution Imaging Spectroradiometers (MODIS) on the NASA Aqua and Terra platforms, the US Navy microwave WindSat radiometer, the Advanced Very High Resolution Radiometer (AVHRR) on several NOAA satellites, and in situ SST observations from the NOAA iQuam project. Data are available from 2002 to present in Zarr format. The original source of the MUR data is the NASA JPL Physical Oceanography DAAC.',\n",
       " 'temporal_bounds': {'start_time': '1234', 'end_time': '4567'},\n",
       " 'spatial_bounds': {'min_lat': 1.0,\n",
       "  'min_lon': 1.0,\n",
       "  'max_lat': 1.0,\n",
       "  'max_lon': 1.0},\n",
       " 'variables': {'variables': [{'standard_name': 'water temp',\n",
       "    'description': 'how hot da water'}]},\n",
       " 'access': {'platform': 'aws', 'path': 's3://path_to_file.zarr'}}"
      ]
     },
     "execution_count": 4,
     "metadata": {},
     "output_type": "execute_result"
    }
   ],
   "source": [
    "json.loads(d.json())"
   ]
  },
  {
   "cell_type": "code",
   "execution_count": 5,
   "id": "ed735e0c-28b6-41e0-a36e-e551627b1af5",
   "metadata": {},
   "outputs": [
    {
     "data": {
      "text/plain": [
       "{'datasets': [{'name': 'Multi-Scale Ultra High Resolution (MUR) Sea Surface Temperature (SST)',\n",
       "   'description': 'A global, gap-free, gridded, daily 1 km Sea Surface Temperature (SST) dataset created by merging multiple Level-2 satellite SST datasets. Those input datasets include the NASA Advanced Microwave Scanning Radiometer-EOS (AMSR-E), the JAXA Advanced Microwave Scanning Radiometer 2 (AMSR-2) on GCOM-W1, the Moderate Resolution Imaging Spectroradiometers (MODIS) on the NASA Aqua and Terra platforms, the US Navy microwave WindSat radiometer, the Advanced Very High Resolution Radiometer (AVHRR) on several NOAA satellites, and in situ SST observations from the NOAA iQuam project. Data are available from 2002 to present in Zarr format. The original source of the MUR data is the NASA JPL Physical Oceanography DAAC.',\n",
       "   'temporal_bounds': {'start_time': '1234', 'end_time': '4567'},\n",
       "   'spatial_bounds': {'min_lat': 1.0,\n",
       "    'min_lon': 1.0,\n",
       "    'max_lat': 1.0,\n",
       "    'max_lon': 1.0},\n",
       "   'variables': {'variables': [{'standard_name': 'water temp',\n",
       "      'description': 'how hot da water'}]},\n",
       "   'access': {'platform': 'aws', 'path': 's3://path_to_file.zarr'}}]}"
      ]
     },
     "execution_count": 5,
     "metadata": {},
     "output_type": "execute_result"
    }
   ],
   "source": [
    "json.loads(DatasetCollection(datasets=[d]).json())"
   ]
  },
  {
   "cell_type": "code",
   "execution_count": null,
   "id": "cca20b5c-7b2d-4b2d-844c-011d301c2ba8",
   "metadata": {},
   "outputs": [],
   "source": []
  }
 ],
 "metadata": {
  "kernelspec": {
   "display_name": "Python (Pixi)",
   "language": "python",
   "name": "pixi-kernel-python3"
  },
  "language_info": {
   "codemirror_mode": {
    "name": "ipython",
    "version": 3
   },
   "file_extension": ".py",
   "mimetype": "text/x-python",
   "name": "python",
   "nbconvert_exporter": "python",
   "pygments_lexer": "ipython3",
   "version": "3.12.11"
  }
 },
 "nbformat": 4,
 "nbformat_minor": 5
}
